{
  "nbformat": 4,
  "nbformat_minor": 0,
  "metadata": {
    "colab": {
      "name": "DataExploration.ipynb",
      "provenance": [],
      "authorship_tag": "ABX9TyPVydSO0uCsQdTBdpgo538j",
      "include_colab_link": true
    },
    "kernelspec": {
      "name": "python3",
      "display_name": "Python 3"
    }
  },
  "cells": [
    {
      "cell_type": "markdown",
      "metadata": {
        "id": "view-in-github",
        "colab_type": "text"
      },
      "source": [
        "<a href=\"https://colab.research.google.com/github/francescodisalvo05/Data-Science-Lab-Exercises/blob/main/DataExploration.ipynb\" target=\"_parent\"><img src=\"https://colab.research.google.com/assets/colab-badge.svg\" alt=\"Open In Colab\"/></a>"
      ]
    },
    {
      "cell_type": "markdown",
      "metadata": {
        "id": "wFCd5xGmgo-P"
      },
      "source": [
        "# Data Exploration \n",
        "Today I'd like to go trough the process of the Data Exploration. \n",
        "\n",
        "But.. Some of you may ask: what are we referring to when we talk about **Data Exploration**?\n",
        "Well, we can say that it includes a set of preliminary analysis about our data, with the aim of explore the main features and for characterizing them. \n",
        "\n",
        "I think that it is sometimes understimated, probably because we're too hungry to gain insights and so, we proceed straight forward to our goal. But, these simple steps could improve the entire process, because it helps to understand better our tools (the data). It will be more valuable when we're not expert in that specific domain, so we should be patient and explore step by step each feature. \n",
        "\n",
        "So, let's get the **weapons** ready and let's go!"
      ]
    },
    {
      "cell_type": "code",
      "metadata": {
        "id": "rz2g41Qcl8nz"
      },
      "source": [
        "import pandas as pd\n",
        "import numpy as np\n",
        "import matplotlib.pyplot as plt\n",
        "import seaborn as sns"
      ],
      "execution_count": 1,
      "outputs": []
    },
    {
      "cell_type": "markdown",
      "metadata": {
        "id": "_dqy5joymAFy"
      },
      "source": [
        "If you're reading this, probably you may know what these libraries do, otherwise, don't worry!\n",
        "\n",
        "In short:\n",
        "\n",
        "*   **Pandas** provides data structures and analysis tools for handling data. It is based on numpy arrays\n",
        "*   **Numpy** is used for extremely efficient computations with vectors and matrix. It's extremely useful when we need to manipulate our dataset\n",
        "*   **Matplotlib** and **Seaborn** are two graphic libraries that allow to make some fancy infographics\n"
      ]
    },
    {
      "cell_type": "markdown",
      "metadata": {
        "id": "SXD9181hlqBv"
      },
      "source": [
        "## Look at the data\n",
        "The first step seems quite obvious! We have to see with what we're working on. We'll work with the IRIS dataset, that is a toy dataset containing just 5 columns. But what do they represent? Let's check on [UCI Machine Learning Repository](https://archive.ics.uci.edu/ml/datasets/iris) and we should gain the informations that we need. \n",
        "\n",
        "\"*The data set contains 3 classes of 50 instances each, where each class refers to a type of iris plant. One class is linearly separable from the other 2; the latter are NOT linearly separable from each other.*\"\n",
        "\n",
        "The five attributes are:\n",
        "1. sepal length in cm\n",
        "2. sepal width in cm\n",
        "3. petal length in cm\n",
        "4. petal width in cm\n",
        "5. class (Iris Setosa, Iris Versicolour, Iris Virginica)\n",
        "\n",
        "Now we're ready for reading it with Pandas."
      ]
    },
    {
      "cell_type": "code",
      "metadata": {
        "id": "paA9BDs0lrOd"
      },
      "source": [
        "df_iris = pd.read_csv('https://archive.ics.uci.edu/ml/machine-learning-databases/iris/iris.data', \n",
        "                      header=None)\n",
        "df_iris = df_iris.rename(columns={0:'sepal_length',\n",
        "                                  1:'sepal_width',\n",
        "                                  2:'petal_length',\n",
        "                                  3:'petal_width',\n",
        "                                  4:'class'})"
      ],
      "execution_count": 2,
      "outputs": []
    },
    {
      "cell_type": "markdown",
      "metadata": {
        "id": "PBLT0FDNrauD"
      },
      "source": [
        "Now we can just look at the first five rows with the **head()** method, otherwise we could get some random values with the **sample()** method. "
      ]
    },
    {
      "cell_type": "code",
      "metadata": {
        "id": "M-pIkAvYoDA1",
        "outputId": "3636404c-6234-4985-f9ae-bb143f830aca",
        "colab": {
          "base_uri": "https://localhost:8080/",
          "height": 206
        }
      },
      "source": [
        "df_iris.head()"
      ],
      "execution_count": null,
      "outputs": [
        {
          "output_type": "execute_result",
          "data": {
            "text/html": [
              "<div>\n",
              "<style scoped>\n",
              "    .dataframe tbody tr th:only-of-type {\n",
              "        vertical-align: middle;\n",
              "    }\n",
              "\n",
              "    .dataframe tbody tr th {\n",
              "        vertical-align: top;\n",
              "    }\n",
              "\n",
              "    .dataframe thead th {\n",
              "        text-align: right;\n",
              "    }\n",
              "</style>\n",
              "<table border=\"1\" class=\"dataframe\">\n",
              "  <thead>\n",
              "    <tr style=\"text-align: right;\">\n",
              "      <th></th>\n",
              "      <th>sepal_length</th>\n",
              "      <th>sepal_width</th>\n",
              "      <th>petal_length</th>\n",
              "      <th>petal_width</th>\n",
              "      <th>class</th>\n",
              "    </tr>\n",
              "  </thead>\n",
              "  <tbody>\n",
              "    <tr>\n",
              "      <th>0</th>\n",
              "      <td>5.1</td>\n",
              "      <td>3.5</td>\n",
              "      <td>1.4</td>\n",
              "      <td>0.2</td>\n",
              "      <td>Iris-setosa</td>\n",
              "    </tr>\n",
              "    <tr>\n",
              "      <th>1</th>\n",
              "      <td>4.9</td>\n",
              "      <td>3.0</td>\n",
              "      <td>1.4</td>\n",
              "      <td>0.2</td>\n",
              "      <td>Iris-setosa</td>\n",
              "    </tr>\n",
              "    <tr>\n",
              "      <th>2</th>\n",
              "      <td>4.7</td>\n",
              "      <td>3.2</td>\n",
              "      <td>1.3</td>\n",
              "      <td>0.2</td>\n",
              "      <td>Iris-setosa</td>\n",
              "    </tr>\n",
              "    <tr>\n",
              "      <th>3</th>\n",
              "      <td>4.6</td>\n",
              "      <td>3.1</td>\n",
              "      <td>1.5</td>\n",
              "      <td>0.2</td>\n",
              "      <td>Iris-setosa</td>\n",
              "    </tr>\n",
              "    <tr>\n",
              "      <th>4</th>\n",
              "      <td>5.0</td>\n",
              "      <td>3.6</td>\n",
              "      <td>1.4</td>\n",
              "      <td>0.2</td>\n",
              "      <td>Iris-setosa</td>\n",
              "    </tr>\n",
              "  </tbody>\n",
              "</table>\n",
              "</div>"
            ],
            "text/plain": [
              "   sepal_length  sepal_width  petal_length  petal_width        class\n",
              "0           5.1          3.5           1.4          0.2  Iris-setosa\n",
              "1           4.9          3.0           1.4          0.2  Iris-setosa\n",
              "2           4.7          3.2           1.3          0.2  Iris-setosa\n",
              "3           4.6          3.1           1.5          0.2  Iris-setosa\n",
              "4           5.0          3.6           1.4          0.2  Iris-setosa"
            ]
          },
          "metadata": {
            "tags": []
          },
          "execution_count": 38
        }
      ]
    },
    {
      "cell_type": "markdown",
      "metadata": {
        "id": "t67FSkZurxTG"
      },
      "source": [
        "Then, thanks to the **info()** method we can have a brief description of the dataset. Of course here we have just 5 rows and it won't provide new informations, but it is useful when we have way more attributes. In fact it will give a list of them with their type and the number of non-null values."
      ]
    },
    {
      "cell_type": "code",
      "metadata": {
        "id": "k7KbypQ_rrls",
        "outputId": "1d9287d5-e57f-4365-b524-883b58e0eab7",
        "colab": {
          "base_uri": "https://localhost:8080/"
        }
      },
      "source": [
        "df_iris.info()"
      ],
      "execution_count": null,
      "outputs": [
        {
          "output_type": "stream",
          "text": [
            "<class 'pandas.core.frame.DataFrame'>\n",
            "RangeIndex: 150 entries, 0 to 149\n",
            "Data columns (total 5 columns):\n",
            " #   Column        Non-Null Count  Dtype  \n",
            "---  ------        --------------  -----  \n",
            " 0   sepal_length  150 non-null    float64\n",
            " 1   sepal_width   150 non-null    float64\n",
            " 2   petal_length  150 non-null    float64\n",
            " 3   petal_width   150 non-null    float64\n",
            " 4   class         150 non-null    object \n",
            "dtypes: float64(4), object(1)\n",
            "memory usage: 6.0+ KB\n"
          ],
          "name": "stdout"
        }
      ]
    },
    {
      "cell_type": "markdown",
      "metadata": {
        "id": "Pw5xnW4jsrtV"
      },
      "source": [
        "The author already said that, but now we can confirm that there are 150 entries, even if we don't know actually if they're exactly 50 per each class. How can we do that? We can use the **count_values()** method! As you may imagine, it is quite useful with categorical data"
      ]
    },
    {
      "cell_type": "code",
      "metadata": {
        "id": "t3p-U9uatEVL",
        "outputId": "1494a922-ee7c-4235-e59a-ed73be1ac941",
        "colab": {
          "base_uri": "https://localhost:8080/"
        }
      },
      "source": [
        "df_iris[\"class\"].value_counts()"
      ],
      "execution_count": null,
      "outputs": [
        {
          "output_type": "execute_result",
          "data": {
            "text/plain": [
              "Iris-setosa        50\n",
              "Iris-versicolor    50\n",
              "Iris-virginica     50\n",
              "Name: class, dtype: int64"
            ]
          },
          "metadata": {
            "tags": []
          },
          "execution_count": 41
        }
      ]
    },
    {
      "cell_type": "markdown",
      "metadata": {
        "id": "yyWf3l3ptbr6"
      },
      "source": [
        "Ok, now we're sure that they didn't lie! Now we can use the **describe()** method for a specific description about all the numerical attributes, in this specific case, the firt four columns"
      ]
    },
    {
      "cell_type": "code",
      "metadata": {
        "id": "ahVh1vh5wxSr",
        "outputId": "10dffbd8-c134-4dc6-ab4e-faede4249c15",
        "colab": {
          "base_uri": "https://localhost:8080/",
          "height": 300
        }
      },
      "source": [
        "df_iris.describe()"
      ],
      "execution_count": null,
      "outputs": [
        {
          "output_type": "execute_result",
          "data": {
            "text/html": [
              "<div>\n",
              "<style scoped>\n",
              "    .dataframe tbody tr th:only-of-type {\n",
              "        vertical-align: middle;\n",
              "    }\n",
              "\n",
              "    .dataframe tbody tr th {\n",
              "        vertical-align: top;\n",
              "    }\n",
              "\n",
              "    .dataframe thead th {\n",
              "        text-align: right;\n",
              "    }\n",
              "</style>\n",
              "<table border=\"1\" class=\"dataframe\">\n",
              "  <thead>\n",
              "    <tr style=\"text-align: right;\">\n",
              "      <th></th>\n",
              "      <th>sepal_length</th>\n",
              "      <th>sepal_width</th>\n",
              "      <th>petal_length</th>\n",
              "      <th>petal_width</th>\n",
              "    </tr>\n",
              "  </thead>\n",
              "  <tbody>\n",
              "    <tr>\n",
              "      <th>count</th>\n",
              "      <td>150.000000</td>\n",
              "      <td>150.000000</td>\n",
              "      <td>150.000000</td>\n",
              "      <td>150.000000</td>\n",
              "    </tr>\n",
              "    <tr>\n",
              "      <th>mean</th>\n",
              "      <td>5.843333</td>\n",
              "      <td>3.054000</td>\n",
              "      <td>3.758667</td>\n",
              "      <td>1.198667</td>\n",
              "    </tr>\n",
              "    <tr>\n",
              "      <th>std</th>\n",
              "      <td>0.828066</td>\n",
              "      <td>0.433594</td>\n",
              "      <td>1.764420</td>\n",
              "      <td>0.763161</td>\n",
              "    </tr>\n",
              "    <tr>\n",
              "      <th>min</th>\n",
              "      <td>4.300000</td>\n",
              "      <td>2.000000</td>\n",
              "      <td>1.000000</td>\n",
              "      <td>0.100000</td>\n",
              "    </tr>\n",
              "    <tr>\n",
              "      <th>25%</th>\n",
              "      <td>5.100000</td>\n",
              "      <td>2.800000</td>\n",
              "      <td>1.600000</td>\n",
              "      <td>0.300000</td>\n",
              "    </tr>\n",
              "    <tr>\n",
              "      <th>50%</th>\n",
              "      <td>5.800000</td>\n",
              "      <td>3.000000</td>\n",
              "      <td>4.350000</td>\n",
              "      <td>1.300000</td>\n",
              "    </tr>\n",
              "    <tr>\n",
              "      <th>75%</th>\n",
              "      <td>6.400000</td>\n",
              "      <td>3.300000</td>\n",
              "      <td>5.100000</td>\n",
              "      <td>1.800000</td>\n",
              "    </tr>\n",
              "    <tr>\n",
              "      <th>max</th>\n",
              "      <td>7.900000</td>\n",
              "      <td>4.400000</td>\n",
              "      <td>6.900000</td>\n",
              "      <td>2.500000</td>\n",
              "    </tr>\n",
              "  </tbody>\n",
              "</table>\n",
              "</div>"
            ],
            "text/plain": [
              "       sepal_length  sepal_width  petal_length  petal_width\n",
              "count    150.000000   150.000000    150.000000   150.000000\n",
              "mean       5.843333     3.054000      3.758667     1.198667\n",
              "std        0.828066     0.433594      1.764420     0.763161\n",
              "min        4.300000     2.000000      1.000000     0.100000\n",
              "25%        5.100000     2.800000      1.600000     0.300000\n",
              "50%        5.800000     3.000000      4.350000     1.300000\n",
              "75%        6.400000     3.300000      5.100000     1.800000\n",
              "max        7.900000     4.400000      6.900000     2.500000"
            ]
          },
          "metadata": {
            "tags": []
          },
          "execution_count": 42
        }
      ]
    },
    {
      "cell_type": "markdown",
      "metadata": {
        "id": "lCw-9Ud4xAH1"
      },
      "source": [
        "\n",
        "*  **count** : counts the rows\n",
        "*   **mean** : compute the mean along the column\n",
        "*   **std**  : compute the standard deviation, so it measures how far are the values from the mean\n",
        "*   **25-50-75%** : they represents the percentiles, that is a statistic measure that indicates the value below which a given percentage of observations in a group of observations falls.\n",
        "*   **max**  : indicates the maximum values\n",
        "\n"
      ]
    },
    {
      "cell_type": "markdown",
      "metadata": {
        "id": "ykrVGaI2zPl8"
      },
      "source": [
        "## Distribution\n",
        "We can discover some other features by looking at the distributions. In this case we'll show how many times a vaue will appear in the dataset. The most readible solution is by **histograms** that will plot the frequency of each value. An easy way for plotting any numerical valus is by the **hist()** method"
      ]
    },
    {
      "cell_type": "code",
      "metadata": {
        "id": "XHb6C0tJyL6i",
        "outputId": "02361048-df12-4d19-b59c-2aa3286d3d42",
        "colab": {
          "base_uri": "https://localhost:8080/",
          "height": 293
        }
      },
      "source": [
        "# set the seaborn style\n",
        "sns.set()\n",
        "\n",
        "df_iris.hist()\n",
        "\n",
        "# avoid overlap\n",
        "plt.tight_layout()"
      ],
      "execution_count": 3,
      "outputs": [
        {
          "output_type": "display_data",
          "data": {
            "image/png": "[encoded data removed]",
            "text/plain": [
              "<Figure size 432x288 with 4 Axes>"
            ]
          },
          "metadata": {
            "tags": []
          }
        }
      ]
    },
    {
      "cell_type": "markdown",
      "metadata": {
        "id": "xUpZfyO51P9a"
      },
      "source": [
        "Of course it gives general informations, but we could be more specific, so we'll use some fancy graphs!"
      ]
    },
    {
      "cell_type": "code",
      "metadata": {
        "id": "g_eJ3qNj0IAU",
        "outputId": "e73557b1-e069-4125-b410-a6351749d8ac",
        "colab": {
          "base_uri": "https://localhost:8080/",
          "height": 357
        }
      },
      "source": [
        "f, axes = plt.subplots(1, 4,figsize=(20,5))\n",
        "f.figsize=(20,15)\n",
        "\n",
        "measures = ['petal_length','petal_width','sepal_length','sepal_width']\n",
        "classes = ['Iris-setosa','Iris-versicolor','Iris-virginica']\n",
        "\n",
        "# different graph for each measure (4)\n",
        "for i,measure in enumerate(measures):\n",
        "  # one distplot for each class (3)\n",
        "  for c in classes:\n",
        "    axes[i].hist(df_iris[df_iris[\"class\"] == c][measure],alpha=0.5)\n",
        "  axes[i].set_xlabel(measure)\n",
        "  \n",
        "plt.legend(labels=classes)"
      ],
      "execution_count": 9,
      "outputs": [
        {
          "output_type": "execute_result",
          "data": {
            "text/plain": [
              "<matplotlib.legend.Legend at 0x7f92864687b8>"
            ]
          },
          "metadata": {
            "tags": []
          },
          "execution_count": 9
        },
        {
          "output_type": "display_data",
          "data": {
            "image/png": "[encoded data removed]",
            "text/plain": [
              "<Figure size 1440x360 with 4 Axes>"
            ]
          },
          "metadata": {
            "tags": []
          }
        }
      ]
    },
    {
      "cell_type": "markdown",
      "metadata": {
        "id": "ffA9sr-qB6nL"
      },
      "source": [
        "In this case we have a clear overview about those values. In fact, it can be clearly seen that the values for the petal length and width are well-separated. Then there is a lighter \"seperation\" among the sepal width and length, and consequently they're not so useful for the classes' separation.\n",
        "\n",
        "\n",
        "\n",
        "## Cumulative Distribution Function\n",
        "Another way for providing a visual representation of an attribute distribution, is by its CDF (Cumulative Distribution Function) that is defined as \n",
        "<center>\n",
        "  $F(x) = P(X \\le x)$ <br />\n",
        "  $0 \\le F(x) \\le 1$ \n",
        "</center>\n",
        "So, as we may know the CDF will be at least 0 and at most 1, due to the fact that we're evalutating in a \"progressive\" way, this function will be a \"step function\". As a consequence, a stronger presence of a value will be denoted by a strong increasing of the curve."
      ]
    },
    {
      "cell_type": "code",
      "metadata": {
        "id": "ESWbfG_uDSTA",
        "outputId": "88c8a689-345a-456e-de52-e64c084b9ff0",
        "colab": {
          "base_uri": "https://localhost:8080/",
          "height": 268
        }
      },
      "source": [
        "# we need an increasing sorting\n",
        "sorted_data = np.sort(df_iris[\"petal_length\"])\n",
        "\n",
        "# 1/N , 1/2N ... \n",
        "yvals = np.arange(len(sorted_data))/float(len(sorted_data)-1)\n",
        "\n",
        "plt.plot(sorted_data,yvals)\n",
        "\n",
        "plt.show()"
      ],
      "execution_count": 10,
      "outputs": [
        {
          "output_type": "display_data",
          "data": {
            "image/png": "[encoded data removed]",
            "text/plain": [
              "<Figure size 432x288 with 1 Axes>"
            ]
          },
          "metadata": {
            "tags": []
          }
        }
      ]
    },
    {
      "cell_type": "markdown",
      "metadata": {
        "id": "NZCMo5C0LUuV"
      },
      "source": [
        "From the graph we can individuate that there is a \"massive\" presence of petal length from 1 to 2, and from 4 to 6. If you see the previous graphs it is confirmed. Pay attention that in this case we are not considering a particular iris class, but all of them.  \n",
        "\n",
        "## Outlier detection\n",
        "The outliers are values that are out of the \"average\", so we can define them \"abnormal\" data. Those outliers could show a problem in the database, or may detect some problems with the sensors and so on. But, sometimes there are cases where we actually look for outliers, in order to detect some anomalies, for example in case of fraud. \n",
        "\n",
        "There are several methods that help in this process, and they can be discovered thanks an univariate analysis or a multivariate ones. They can be discovered both in a mathematical or graphical way, thanks to Boxplots, Histograms, Scatterplot, Z-score, robust z-score and many others. \n",
        "\n",
        "### Boxplot\n",
        "It is a standard way for exploiting outliers based on five \"special points\": minimum, first quartile, median, third quartile and maximum. From the first and fourth quartile we have from the 25th percentile to the 75th one. \n",
        "\n",
        "The extreme lines define the range where we can consider \"normal values\". They're defined as Q1-1,5*IQR and Q3+1,5*IQR. So you multiply for 1.5 the height of the box. \n",
        "\n",
        "It is quite important to examine also the length of these lines, because they provide undercovered insights. In particular, when they have the same length we know that they have the same distance from the median. If it is unbalanced to the right, it means that the third quartile will have an higher distance from the mean, and vice versa\n",
        "\n",
        "Let's see for the non categorical attributes "
      ]
    },
    {
      "cell_type": "code",
      "metadata": {
        "id": "RS9DzEOmLL2_",
        "outputId": "07b3c138-8856-48f9-aefc-1fa1d6edb517",
        "colab": {
          "base_uri": "https://localhost:8080/",
          "height": 286
        }
      },
      "source": [
        "# unbalanced from the left\n",
        "array0 = np.array([-12,20,25,16,23,14,13,67,20,23,5])\n",
        "# unbalanced from the right\n",
        "array1 = np.array([1,1,1,25,16,23,14,13,67,80,50,20,23,5])\n",
        "# balanced\n",
        "array2 = np.array([1,10,10,10,20,20,30,30,30,41])\n",
        "\n",
        "sns.boxplot(data=[array0,array1, array2], orient=\"h\", palette=\"Set2\")"
      ],
      "execution_count": 40,
      "outputs": [
        {
          "output_type": "execute_result",
          "data": {
            "text/plain": [
              "<matplotlib.axes._subplots.AxesSubplot at 0x7f927da4e048>"
            ]
          },
          "metadata": {
            "tags": []
          },
          "execution_count": 40
        },
        {
          "output_type": "display_data",
          "data": {
            "image/png": "[encoded data removed]",
            "text/plain": [
              "<Figure size 432x288 with 1 Axes>"
            ]
          },
          "metadata": {
            "tags": []
          }
        }
      ]
    },
    {
      "cell_type": "markdown",
      "metadata": {
        "id": "i6sb-LL1f1s4"
      },
      "source": [
        "### Histograms\n",
        "We saw them before, and they could be useful also for detecting outliers, but they're not so accurate, because for much more smaller values, there is the risk that we don't recognize them at all. Let's see an example. "
      ]
    },
    {
      "cell_type": "code",
      "metadata": {
        "id": "zAZ45vMoRYj7",
        "outputId": "28f84a5c-11e5-4dcf-c526-50735ce93d19",
        "colab": {
          "base_uri": "https://localhost:8080/",
          "height": 341
        }
      },
      "source": [
        "array1 = []\n",
        "\n",
        "# add 1,2,.. , 9\n",
        "for i in range(10):\n",
        "  array1.append(i)\n",
        "\n",
        "# add 10, 1000 times \n",
        "for i in range(1000):\n",
        "  array1.append(10)\n",
        "\n",
        "plt.hist(array1)"
      ],
      "execution_count": 47,
      "outputs": [
        {
          "output_type": "execute_result",
          "data": {
            "text/plain": [
              "(array([1.000e+00, 1.000e+00, 1.000e+00, 1.000e+00, 1.000e+00, 1.000e+00,\n",
              "        1.000e+00, 1.000e+00, 1.000e+00, 1.001e+03]),\n",
              " array([ 0.,  1.,  2.,  3.,  4.,  5.,  6.,  7.,  8.,  9., 10.]),\n",
              " <a list of 10 Patch objects>)"
            ]
          },
          "metadata": {
            "tags": []
          },
          "execution_count": 47
        },
        {
          "output_type": "display_data",
          "data": {
            "image/png": "[encoded data removed]",
            "text/plain": [
              "<Figure size 432x288 with 1 Axes>"
            ]
          },
          "metadata": {
            "tags": []
          }
        }
      ]
    },
    {
      "cell_type": "markdown",
      "metadata": {
        "id": "gImn3NhSk_K2"
      },
      "source": [
        "In this case we have 10 candidates for outliers, but because there is a much greater frequency on 10, they won't appear, so in this way we could miss them."
      ]
    },
    {
      "cell_type": "markdown",
      "metadata": {
        "id": "_589-ZZNl1co"
      },
      "source": [
        "### Z-Score\n",
        "This definition came from statistics. It is well-known that 99.7% of the points relies among $\\mu + or - 3\\sigma$, where $mu$ is the mean and $\\sigma$ is the stanard deviation. \n",
        "\n",
        "<img src=\"https://images.squarespace-cdn.com/content/v1/53e4e1bbe4b08bfde27b5214/1444164857460-T50FJE9CGPYYEAOSQBWA/ke17ZwdGBToddI8pDm48kBAn57fvxhJmgXL6GZy1xhUUqsxRUqqbr1mOJYKfIPR7LoDQ9mXPOjoJoqy81S2I8N_N4V1vUb5AoIIIbLZhVYy7Mythp_T-mtop-vrsUOmeInPi9iDjx9w8K4ZfjXt2dsXMtqy5rx4mcmbzj6URbFz6p6kzYKQ5yPdvVFehL9j1CjLISwBs8eEdxAxTptZAUg/image-asset.png?format=2500w\" width=\"70%\"/>\n",
        "\n",
        "It means that if the result of the z-score is greater than 3 for a certain data point, it should be considered as an outlier. The formula is the following one:\n",
        "\n",
        "<center> $z-score  = \\frac {X-\\mu} \\sigma$</center>\n"
      ]
    },
    {
      "cell_type": "code",
      "metadata": {
        "id": "lqlmQSUQj911",
        "outputId": "79806181-b92f-4346-bd86-449d877e6200",
        "colab": {
          "base_uri": "https://localhost:8080/"
        }
      },
      "source": [
        "array = np.array([20,25,16,23,14,1342,13,120,20,23,5,20,-18])\n",
        "outliers = []\n",
        "\n",
        "for i in array:\n",
        "  z = abs((i-array.mean())/array.std())\n",
        "  if z > 3:\n",
        "    outliers.append(i)\n",
        "\n",
        "print(\"Outliers:\\t\",outliers)"
      ],
      "execution_count": 59,
      "outputs": [
        {
          "output_type": "stream",
          "text": [
            "Outliers:\t [1342]\n"
          ],
          "name": "stdout"
        }
      ]
    },
    {
      "cell_type": "markdown",
      "metadata": {
        "id": "yDRIKmbExFw9"
      },
      "source": [
        "### Scatterplot\n",
        "Another graphical way is by using the scatterplot, that print for every copule of data. If there is a strong relationship among x and y, if there is some \"strange\" value, it will be immediately discovered"
      ]
    },
    {
      "cell_type": "code",
      "metadata": {
        "id": "jZs8fojfxYHT",
        "outputId": "99301055-4beb-4c94-8546-f8d128b96f27",
        "colab": {
          "base_uri": "https://localhost:8080/",
          "height": 303
        }
      },
      "source": [
        "x = [i for i in range(1,50)]\n",
        "\n",
        "# y = x -> first bisector\n",
        "y = x.copy()\n",
        "\n",
        "#outlier (it is not anymore y[5] = x[5])\n",
        "y[5] = 23\n",
        "\n",
        "# dataframe\n",
        "df_scatter = pd.DataFrame({'x':x,'y':y})\n",
        "\n",
        "sns.scatterplot(data=df_scatter, x=\"x\",y=\"y\")"
      ],
      "execution_count": 103,
      "outputs": [
        {
          "output_type": "execute_result",
          "data": {
            "text/plain": [
              "<matplotlib.axes._subplots.AxesSubplot at 0x7f9278e7d080>"
            ]
          },
          "metadata": {
            "tags": []
          },
          "execution_count": 103
        },
        {
          "output_type": "display_data",
          "data": {
            "image/png": "[encoded data removed]",
            "text/plain": [
              "<Figure size 432x288 with 1 Axes>"
            ]
          },
          "metadata": {
            "tags": []
          }
        }
      ]
    },
    {
      "cell_type": "markdown",
      "metadata": {
        "id": "afPsjT5Aq4-p"
      },
      "source": [
        "## Correlation analysis\n",
        "When you have to perform any kind of analysis, it is important to look for correlations, for many reasons. Firstly, an higher correlation could align some important features among attributes, and in this case you should focus on that. Then, sometimes when some attributes are too correlated you could eliminate one of the two, in order to save space and improve the efficiency on your model.\n",
        "\n",
        "\n",
        "There are several graph that can be used for highlighting correlations such as scatter plot, scatter plot percentiles, heatmap and many other analytical way"
      ]
    },
    {
      "cell_type": "code",
      "metadata": {
        "id": "NMx_6VBFq68E",
        "outputId": "b5015d9a-991f-4e1e-dfaf-2af831cf776d",
        "colab": {
          "base_uri": "https://localhost:8080/",
          "height": 362
        }
      },
      "source": [
        "# relationship among the sepal width and the petal length\n",
        "x = df_iris[\"petal_length\"]\n",
        "y = df_iris[\"sepal_width\"]\n",
        "\n",
        "sns.scatterplot(x,y)"
      ],
      "execution_count": 98,
      "outputs": [
        {
          "output_type": "stream",
          "text": [
            "/usr/local/lib/python3.6/dist-packages/seaborn/_decorators.py:43: FutureWarning: Pass the following variables as keyword args: x, y. From version 0.12, the only valid positional argument will be `data`, and passing other arguments without an explicit keyword will result in an error or misinterpretation.\n",
            "  FutureWarning\n"
          ],
          "name": "stderr"
        },
        {
          "output_type": "execute_result",
          "data": {
            "text/plain": [
              "<matplotlib.axes._subplots.AxesSubplot at 0x7f9279ea7748>"
            ]
          },
          "metadata": {
            "tags": []
          },
          "execution_count": 98
        },
        {
          "output_type": "display_data",
          "data": {
            "image/png": "[encoded data removed]",
            "text/plain": [
              "<Figure size 432x288 with 1 Axes>"
            ]
          },
          "metadata": {
            "tags": []
          }
        }
      ]
    },
    {
      "cell_type": "markdown",
      "metadata": {
        "id": "d5UFd8W8x48F"
      },
      "source": [
        "Of course there could be a relationship if you can define a particular trend, such as before for y = x. \n",
        "\n",
        "### Correlation matrix\n",
        "The correlation matrix measure how much any variable is correlated with the remaining ones. It is performed by the **corr()** pandas method. It works just with numerical attributes, in fact when we deal with categorical attributes it is suggested to convert them into numeric ones, with well-known tecniques such as the one hot encoding and so on."
      ]
    },
    {
      "cell_type": "code",
      "metadata": {
        "id": "FxWUM8ZCsREg",
        "outputId": "9fbef1d3-0d0b-410a-a4bc-3cc1bd0f053f",
        "colab": {
          "base_uri": "https://localhost:8080/",
          "height": 175
        }
      },
      "source": [
        "df_iris.corr()"
      ],
      "execution_count": 99,
      "outputs": [
        {
          "output_type": "execute_result",
          "data": {
            "text/html": [
              "<div>\n",
              "<style scoped>\n",
              "    .dataframe tbody tr th:only-of-type {\n",
              "        vertical-align: middle;\n",
              "    }\n",
              "\n",
              "    .dataframe tbody tr th {\n",
              "        vertical-align: top;\n",
              "    }\n",
              "\n",
              "    .dataframe thead th {\n",
              "        text-align: right;\n",
              "    }\n",
              "</style>\n",
              "<table border=\"1\" class=\"dataframe\">\n",
              "  <thead>\n",
              "    <tr style=\"text-align: right;\">\n",
              "      <th></th>\n",
              "      <th>sepal_length</th>\n",
              "      <th>sepal_width</th>\n",
              "      <th>petal_length</th>\n",
              "      <th>petal_width</th>\n",
              "    </tr>\n",
              "  </thead>\n",
              "  <tbody>\n",
              "    <tr>\n",
              "      <th>sepal_length</th>\n",
              "      <td>1.000000</td>\n",
              "      <td>-0.109369</td>\n",
              "      <td>0.871754</td>\n",
              "      <td>0.817954</td>\n",
              "    </tr>\n",
              "    <tr>\n",
              "      <th>sepal_width</th>\n",
              "      <td>-0.109369</td>\n",
              "      <td>1.000000</td>\n",
              "      <td>-0.420516</td>\n",
              "      <td>-0.356544</td>\n",
              "    </tr>\n",
              "    <tr>\n",
              "      <th>petal_length</th>\n",
              "      <td>0.871754</td>\n",
              "      <td>-0.420516</td>\n",
              "      <td>1.000000</td>\n",
              "      <td>0.962757</td>\n",
              "    </tr>\n",
              "    <tr>\n",
              "      <th>petal_width</th>\n",
              "      <td>0.817954</td>\n",
              "      <td>-0.356544</td>\n",
              "      <td>0.962757</td>\n",
              "      <td>1.000000</td>\n",
              "    </tr>\n",
              "  </tbody>\n",
              "</table>\n",
              "</div>"
            ],
            "text/plain": [
              "              sepal_length  sepal_width  petal_length  petal_width\n",
              "sepal_length      1.000000    -0.109369      0.871754     0.817954\n",
              "sepal_width      -0.109369     1.000000     -0.420516    -0.356544\n",
              "petal_length      0.871754    -0.420516      1.000000     0.962757\n",
              "petal_width       0.817954    -0.356544      0.962757     1.000000"
            ]
          },
          "metadata": {
            "tags": []
          },
          "execution_count": 99
        }
      ]
    },
    {
      "cell_type": "markdown",
      "metadata": {
        "id": "YTZ3yKZIzMGU"
      },
      "source": [
        "The correlation matrix can be plotted with an heatmap, that higlights the stronger and lighter correlation in a better way, by using different color tones"
      ]
    },
    {
      "cell_type": "code",
      "metadata": {
        "id": "5FHrpLX_zgIL",
        "outputId": "cd96d5a2-1f53-428e-ee39-dfee6146ea85",
        "colab": {
          "base_uri": "https://localhost:8080/",
          "height": 350
        }
      },
      "source": [
        "sns.heatmap(df_iris.corr(), annot=True, cmap=\"Blues\")"
      ],
      "execution_count": 100,
      "outputs": [
        {
          "output_type": "execute_result",
          "data": {
            "text/plain": [
              "<matplotlib.axes._subplots.AxesSubplot at 0x7f9279e2d0b8>"
            ]
          },
          "metadata": {
            "tags": []
          },
          "execution_count": 100
        },
        {
          "output_type": "display_data",
          "data": {
            "image/png": "[encoded data removed]",
            "text/plain": [
              "<Figure size 432x288 with 2 Axes>"
            ]
          },
          "metadata": {
            "tags": []
          }
        }
      ]
    },
    {
      "cell_type": "markdown",
      "metadata": {
        "id": "fVEsB3XMzrpW"
      },
      "source": [
        "Now we can describe better our results. Of course the matrix is symmetric, because we compare couples of elements. Then, we can see a quite high correlation among petal_length and petal_width, and also for the sepal_length and petal_length. Obviously we could image a similar result, but it is way more satisfying when you find your own evidences!"
      ]
    }
  ]
}