{
 "cells": [
  {
   "cell_type": "markdown",
   "metadata": {},
   "source": [
    "# **2-Laboratory-15-10-2020**\n",
    "\n",
    "| Credits to the authors of the exercises: Andrea Pasini, Giuseppe Attanasio, Flavio Giobergia <br />\n",
    "| Master of Science in Data Science and Engineering, Politecnico di Torino, A.A. 2020-21\n",
    "\n",
    "## Global Land Temperature\n",
    "The Global Land Temperature (GLT) dataset is a large collection of measurements actively maintained by Berkeley Earth. It contains the raw source data measured with stations all around the globe, plus anintermediate format and several formatted output files. Data span from ∼1750 up to recent days with monthly and daily availability. \n",
    "<br />\n",
    "Measurements are provided by hemispheres, states, countries, cities andmore. You can read more about the dataset at the Berkeley Earth website. For the purpose of this laboratory you will work on a modified, smaller but dirtier, version of the original GLT dataset, to stress the importance of data preprocessing. More specifically, this didactic version contains the formatted output files of the major cities of the globe with monthly granularity. For the sake of simplicity, the analysis will range between almost two centuries (i.e. between the years 1817 and 2012). The dataset is composed of∼200k rows corresponding to the measurements taken the first day of themonth in a given city. Each measurement is then described by 7 values:\n",
    "- Date, when the measurement was taken\n",
    "- AverageTemperature\n",
    "- AverageTemperatureUncertainty\n",
    "- City, from which the measurement was taken•\n",
    "- Country\n",
    "- Latitude\n",
    "- Longitude\n",
    "\n",
    "The main goal of this exercise is to learn how to clean a real-world dataset searching for anomalies, suchas missing values or outliers, in its data\n",
    "\n",
    "### Questions\n",
    "1. Load the Global Land Temperature dataset as a list of lists. Before starting, take a moment to better inspect the attributes you are going to work on. How many of them are nominal, how many continuous or discrete?"
   ]
  },
  {
   "cell_type": "code",
   "execution_count": 101,
   "metadata": {},
   "outputs": [],
   "source": [
    "import csv\n",
    "\n",
    "# initialize\n",
    "GLT_dataset = [ [] for i in range(7)]\n",
    "\n",
    "with open('../Datasets/GLT_filtered.csv') as f:\n",
    "    \n",
    "    for row in csv.reader(f): \n",
    "        for i in range(len(row)):\n",
    "            GLT_dataset[i].append(row[i])\n",
    "        \n",
    "head = [ GLT_dataset[i].pop(0) for i in range(len(GLT_dataset))]"
   ]
  },
  {
   "cell_type": "markdown",
   "metadata": {},
   "source": [
    "Let's see better what we obtained"
   ]
  },
  {
   "cell_type": "code",
   "execution_count": 105,
   "metadata": {},
   "outputs": [
    {
     "name": "stdout",
     "output_type": "stream",
     "text": [
      " *** Head  \n",
      "['Date', 'AverageTemperature', 'AverageTemperatureUncertainty', 'City', 'Country', 'Latitude', 'Longitude']\n",
      "\n",
      " *** First 5 elements for each list\n",
      "['1849-01-01', '1849-02-01', '1849-03-01', '1849-04-01', '1849-05-01', '1849-06-01', '1849-07-01', '1849-08-01']\n",
      "[26.704, 27.434, 26.787, 26.14, 25.427, 24.844, 24.058000000000003, 23.576]\n",
      "['1.435', '1.3619999999999999', '', '1.3869999999999998', '1.2', '1.402', '1.254', '1.265']\n",
      "['Abidjan', 'Abidjan', 'Abidjan', 'Abidjan', 'Abidjan', 'Abidjan', 'Abidjan', 'Abidjan']\n",
      "[\"CÃ´te D'Ivoire\", \"CÃ´te D'Ivoire\", \"CÃ´te D'Ivoire\", \"CÃ´te D'Ivoire\", \"CÃ´te D'Ivoire\", \"CÃ´te D'Ivoire\", \"CÃ´te D'Ivoire\", \"CÃ´te D'Ivoire\"]\n",
      "['5.63N', '5.63N', '5.63N', '5.63N', '5.63N', '5.63N', '5.63N', '5.63N']\n",
      "['3.23W', '3.23W', '3.23W', '3.23W', '3.23W', '3.23W', '3.23W', '3.23W']\n"
     ]
    }
   ],
   "source": [
    "print(f\" *** Head  \\n{head}\")\n",
    "print(\"\\n *** First 5 elements for each list\")\n",
    "\n",
    "for i in range(len(GLT_dataset)):\n",
    "    print(GLT_dataset[i][:8])"
   ]
  },
  {
   "cell_type": "markdown",
   "metadata": {},
   "source": [
    "So, we're dealing with 2 nominal attributes (City,Country), three discrete ones (Date,Latitude,Longitude) and finally two continuos attributes (AverageTemperature,AverageTemperatureUncertainty) <br />\n",
    "\n",
    "2. Analyze the attribute AverageTemperature, which contains missing values. Fill any gap with the arithmetic mean among the closest antecedent and the closest successive measurements in time,taken in the same city. Assume the following rules for edge cases:\n",
    "\n",
    "original_list = ['', 5, 6,'']\n",
    "step_1        = [ 2.5, 5, 6,''] # (0 + 5) / 2\n",
    "step_2        = [ 2.5, 5, 6,  3 ] # (6 + 0) / 2\n",
    "\n",
    "original_list   = ['','', 24, 28.9 ]\n",
    "step_1          = [ 12,'', 24, 28.9 ] # (0 + 24) / 2\n",
    "step_2          = [ 12, 18, 24, 28.9 ] # (12 + 24) / 2"
   ]
  },
  {
   "cell_type": "code",
   "execution_count": 93,
   "metadata": {},
   "outputs": [
    {
     "name": "stdout",
     "output_type": "stream",
     "text": [
      "['', 5, 4, '', 3, '', '']\n",
      "[2.5, 5, 4, '', 3, '', '']\n",
      "[2.5, 5, 4, '', 3, '', '']\n",
      "[2.5, 5, 4, '', 3, '', '']\n",
      "[2.5, 5, 4, 3.5, 3, '', '']\n",
      "[2.5, 5, 4, 3.5, 3, '', '']\n",
      "[2.5, 5, 4, 3.5, 3, 1.5, '']\n",
      "[2.5, 5, 4, 3.5, 3, 1.5, 0.75]\n"
     ]
    }
   ],
   "source": [
    "# let's start with a toy vector in order to see better what happens\n",
    "toy =  ['',5,4,'',3,'','']\n",
    "\n",
    "def next_non_negative(i):\n",
    "    for k in range(i+1,len(toy)):\n",
    "        if toy[k] != '':\n",
    "            return k\n",
    "    return -1\n",
    "\n",
    "\"\"\" \n",
    "    I define the first control outside the loop \n",
    "    because in this way this control will take place\n",
    "    just once\n",
    "\"\"\"\n",
    "print(toy)\n",
    "\n",
    "if toy[0] == '':\n",
    "    toy[0] = toy[next_non_negative(0)]/2\n",
    "\n",
    "print(toy)\n",
    "\n",
    "# from second to penultimate\n",
    "for i in range(1,len(toy)):\n",
    "    \n",
    "    if toy[i] == '':\n",
    "        j = next_non_negative(i)\n",
    "        \n",
    "        # if there is any non-null value beyond it, it takes the previous one\n",
    "        if j == -1:\n",
    "            toy[i] = toy[i-1]/2\n",
    "        else:\n",
    "            if (j-i) > 1:\n",
    "                toy[i] = toy[j]/2\n",
    "            else:\n",
    "                toy[i] = (toy[i-1] + toy[j])/2\n",
    "    print(toy)\n",
    "    "
   ]
  },
  {
   "cell_type": "markdown",
   "metadata": {},
   "source": [
    "It'd works, now let's try it on our list, but firstly we need to map these values as float, otherwise we cannot calculate the mean \n"
   ]
  },
  {
   "cell_type": "code",
   "execution_count": 104,
   "metadata": {},
   "outputs": [
    {
     "data": {
      "text/plain": [
       "[26.704,\n",
       " 27.434,\n",
       " 26.787,\n",
       " 26.14,\n",
       " 25.427,\n",
       " 24.844,\n",
       " 24.058000000000003,\n",
       " 23.576,\n",
       " 24.4195,\n",
       " 25.263]"
      ]
     },
     "execution_count": 104,
     "metadata": {},
     "output_type": "execute_result"
    }
   ],
   "source": [
    "# convert from string to float\n",
    "GLT_dataset[1] = [float(i) if i != '' else '' for i in GLT_dataset[1] ]\n",
    "\n",
    "def next_non_negativeV2(i):\n",
    "    for k in range(i+1,len(GLT_dataset[1])):\n",
    "        if GLT_dataset[1][k] != '':\n",
    "            return k\n",
    "    return -1\n",
    "\n",
    "if GLT_dataset[1][0] == '':\n",
    "    GLT_dataset[1][0] = GLT_dataset[1][next_non_negative(0)]/2\n",
    "\n",
    "for i in range(len(GLT_dataset[1])):\n",
    "    \n",
    "    if GLT_dataset[1][i] == '':\n",
    "        \n",
    "        j = next_non_negativeV2(i)\n",
    "        \n",
    "        if j == -1:\n",
    "            GLT_dataset[1][i] = GLT_dataset[1][i-1]/2\n",
    "        else:\n",
    "            if (j-i) > 1:\n",
    "                GLT_dataset[1][i] = GLT_dataset[1][j]/2\n",
    "            else:\n",
    "                GLT_dataset[1][i] = (GLT_dataset[1][i-1] + GLT_dataset[1][j])/2\n",
    "    \n",
    "    \n",
    "GLT_dataset[1][:10]"
   ]
  },
  {
   "cell_type": "code",
   "execution_count": 64,
   "metadata": {},
   "outputs": [
    {
     "data": {
      "text/plain": [
       "[26.704,\n",
       " 27.434,\n",
       " 13.07,\n",
       " 26.14,\n",
       " 25.427,\n",
       " 24.844,\n",
       " 24.058000000000003,\n",
       " 23.576,\n",
       " 12.6315,\n",
       " 25.263]"
      ]
     },
     "execution_count": 64,
     "metadata": {},
     "output_type": "execute_result"
    }
   ],
   "source": [
    "for i,elem in enumerate(GLT_dataset[1]):\n",
    "    \n",
    "    if elem == '' and i != len(GLT_dataset[1])-1:\n",
    "        # look for the first non-null value\n",
    "        for j in range(i+1,len(GLT_dataset[1])):\n",
    "            if GLT_dataset[1][j] != '':\n",
    "                GLT_dataset[1][i] = GLT_dataset[1][j]/2\n",
    "                break\n",
    "                \n",
    "    elif elem == '' and i == len(GLT_dataset[1])-1:\n",
    "        # use the previous element\n",
    "        GLT_dataset[1][i] = GLT_dataset[1][i-1]/2 \n",
    "\n",
    "GLT_dataset[1][:10]"
   ]
  },
  {
   "cell_type": "code",
   "execution_count": null,
   "metadata": {},
   "outputs": [],
   "source": []
  },
  {
   "cell_type": "code",
   "execution_count": null,
   "metadata": {},
   "outputs": [],
   "source": []
  }
 ],
 "metadata": {
  "kernelspec": {
   "display_name": "Python 3",
   "language": "python",
   "name": "python3"
  },
  "language_info": {
   "codemirror_mode": {
    "name": "ipython",
    "version": 3
   },
   "file_extension": ".py",
   "mimetype": "text/x-python",
   "name": "python",
   "nbconvert_exporter": "python",
   "pygments_lexer": "ipython3",
   "version": "3.8.3"
  }
 },
 "nbformat": 4,
 "nbformat_minor": 4
}
