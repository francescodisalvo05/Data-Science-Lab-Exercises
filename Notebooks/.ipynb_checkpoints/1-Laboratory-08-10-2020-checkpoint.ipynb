{
 "cells": [
  {
   "cell_type": "markdown",
   "metadata": {},
   "source": [
    "# **1-Laboratory-08-10-2020**\n",
    "\n",
    "| Credits to the authors of the exercises: Andrea Pasini, Giuseppe Attanasio, Flavio Giobergia <br />\n",
    "| Master of Science in Data Science and Engineering, Politecnico di Torino, A.A. 2020-21"
   ]
  },
  {
   "cell_type": "markdown",
   "metadata": {},
   "source": [
    "## IRIS Dataset\n",
    "Iris is a particularly famoustoy dataset(i.e. a dataset with a small number of rows and columns, mostlyused for initial small-scale tests and proofs of concept). This specific dataset contains information aboutthe Iris, a genus that includes 260-300 species of plants (you can read more about Iris on Wikipedia). TheIris dataset contains measurements for 150 Iris flowers, each belonging to one of three species: Virginica,Versicolor and Setosa. (50 flowers for each of the three species). These three species all present similarflowers, as you can see in Figure 1.Each of the 150 flowers contained in the Iris dataset is represented by 5 values:\n",
    "- sepal length, in cm\n",
    "- sepal width, in cm\n",
    "- petal length, in cm\n",
    "- petal width, in cm \n",
    "- Iris species, one of: Iris-setosa, Iris-versicolor, Iris-virginica\n",
    "\n",
    "The dataset is available as a Comma-Separated Values (CSV) file. These files are typically used torepresent tabular data. Each row is represented on one of the lines. Each of the rows contains a fixednumber of columns. Each of the columns (in each row) is separated by a comma (,), hence the name.You can read more about CSV files on Wikipedia.The following are 3 lines taken from the Iris dataset. You should check the contents of the CSV fileyourself to get a sense of what CSV files look like <br />\n",
    "- .5.0,3.6,1.4,0.2,Iris-setosa<br />\n",
    "- 6.3,2.3,4.4,1.3,Iris-versicolor<br />\n",
    "- 7.2,3.0,5.8,1.6,Iris-virginica<br />\n",
    "\n",
    "<hr /> \n",
    "\n",
    "### Questions\n",
    "1. Load the previously downloaded Iris dataset as a list of lists (each of the 150 lists should have 5 elements). You can make use of the csv module presented. You can read more about the csv module on the official documentation."
   ]
  },
  {
   "cell_type": "code",
   "execution_count": 1,
   "metadata": {},
   "outputs": [],
   "source": [
    "import csv\n",
    "\n",
    "data = [ [], [], [], [], [] ]\n",
    "head = [\"sepal length\",\"sepal width\",\"petal length\",\"petal width\"]\n",
    "\n",
    "with open('../Datasets/iris.csv') as f:\n",
    "    \n",
    "    for row in csv.reader(f):\n",
    "        \"\"\"\n",
    "            printing \"row\" I noticed that the last row is empty\n",
    "            so I need to get just the ones with 5 attributes\n",
    "        \"\"\"\n",
    "        if len(row) == 5:\n",
    "            \"\"\"\n",
    "                for the other exercise we'll need numbers and not string\n",
    "                but pay attention that the last element have to remain a string\n",
    "                \n",
    "                convert string into float from 0 to 3\n",
    "                element 4 remains \n",
    "            \"\"\"\n",
    "                \n",
    "            for i in range(4):\n",
    "                data[i].append(float(row[i]))\n",
    "            \n",
    "            data[4].append(row[4])"
   ]
  },
  {
   "cell_type": "markdown",
   "metadata": {},
   "source": [
    "2. Compute and print the mean and the standard deviation for each of the 4 measurement columns(i.e. sepal length and width, petal length and width). Remember that, for a given list ofnvaluesx= (x1,x2,...,xn), the mean μ and the standard deviation σ are defined respectively as <img src=\"../Bridge/1.jpg\" width=\"128px\" height=\"auto\" />\n",
    "\n",
    "I'll define two function that execute the mean and the standard deviation for each column"
   ]
  },
  {
   "cell_type": "code",
   "execution_count": 2,
   "metadata": {},
   "outputs": [
    {
     "name": "stdout",
     "output_type": "stream",
     "text": [
      "\n",
      "\t sepal length\n",
      "mean:\t 5.843333333333335\n",
      "std:\t 0.8253012917851409\n",
      "\n",
      "\t sepal width\n",
      "mean:\t 3.0540000000000007\n",
      "std:\t 0.4321465800705435\n",
      "\n",
      "\t petal length\n",
      "mean:\t 3.7586666666666693\n",
      "std:\t 1.7585291834055201\n",
      "\n",
      "\t petal width\n",
      "mean:\t 1.1986666666666672\n",
      "std:\t 0.760612618588172\n"
     ]
    }
   ],
   "source": [
    "def mean(x):\n",
    "    return sum(x) / len(x)\n",
    "\n",
    "def standard_deviation(x):\n",
    "    u = mean(x)\n",
    "    return (mean([ (x_ - u) ** 2 for x_ in x ])) ** 0.5\n",
    "\n",
    "for i, m in enumerate(head):\n",
    "    print(\"\\n\\t\",head[i])\n",
    "    print(\"mean:\\t\",mean(data[i]))\n",
    "    print(\"std:\\t\",standard_deviation(data[i]))"
   ]
  },
  {
   "cell_type": "markdown",
   "metadata": {},
   "source": [
    "3. Compute and print the mean and the standard deviation for each of the 4 measurement columns,separately for each of the three Iris species (versicolor, virginica and setosa)."
   ]
  },
  {
   "cell_type": "code",
   "execution_count": 4,
   "metadata": {},
   "outputs": [
    {
     "name": "stdout",
     "output_type": "stream",
     "text": [
      "Iris-versicolor\t\t5.93600 \t0.51098\n",
      "Iris-virginica\t\t6.58800 \t0.62949\n",
      "Iris-setosa\t\t5.00600 \t0.34895\n",
      "\n",
      "Iris-versicolor\t\t2.77000 \t0.31064\n",
      "Iris-virginica\t\t2.97400 \t0.31926\n",
      "Iris-setosa\t\t3.41800 \t0.37719\n",
      "\n",
      "Iris-versicolor\t\t4.26000 \t0.46519\n",
      "Iris-virginica\t\t5.55200 \t0.54635\n",
      "Iris-setosa\t\t1.46400 \t0.17177\n",
      "\n",
      "Iris-versicolor\t\t1.32600 \t0.19577\n",
      "Iris-virginica\t\t2.02600 \t0.27189\n",
      "Iris-setosa\t\t0.24400 \t0.10613\n",
      "\n"
     ]
    }
   ],
   "source": [
    "iris_types = ['Iris-versicolor', 'Iris-virginica','Iris-setosa']\n",
    "\n",
    "for i, m in enumerate(head):\n",
    "    \n",
    "    # check every time all the value for each type \n",
    "    for iris_t in iris_types:\n",
    "        \n",
    "        print(iris_t, end=\"\\t\")\n",
    "        # list with all of iris_t flowers \n",
    "        values = []\n",
    "        for a,b in zip(data[i],data[4]):\n",
    "            \"\"\" \n",
    "                if that flower is the same of iris_t\n",
    "                add it to the list\n",
    "            \"\"\"\n",
    "            if b == iris_t:\n",
    "                values.append(a)\n",
    "        \n",
    "        print(f\"\\t{mean(values):.5f} \\t{standard_deviation(values):.5f}\")\n",
    "    \n",
    "    print()"
   ]
  },
  {
   "cell_type": "markdown",
   "metadata": {},
   "source": [
    "4. (*) Based on the results of exercises 2 and 3, which of the 4 measurements would you considering as being the most characterizing one for the three species? (In other words, which measurementwould you consider “best”, if you were to guess the Iris species based only on those four values?)\n",
    "\n",
    "Looking at numbers could be difficult for guessing the answer, so I think that plotting these result gained on the previous exercise and see which is the most \"anomalous\" measure. So it could be done by plotting for each measure both mean and std graph  "
   ]
  },
  {
   "cell_type": "code",
   "execution_count": 61,
   "metadata": {},
   "outputs": [
    {
     "data": {
      "text/html": [
       "\n",
       "<style>\n",
       ".output_png {\n",
       "    display: table-cell;\n",
       "    text-align: center;\n",
       "    vertical-align: middle;\n",
       "}\n",
       "</style>\n"
      ],
      "text/plain": [
       "<IPython.core.display.HTML object>"
      ]
     },
     "execution_count": 61,
     "metadata": {},
     "output_type": "execute_result"
    },
    {
     "data": {
      "image/png": "[encoded data removed]",
      "text/plain": [
       "<Figure size 432x288 with 4 Axes>"
      ]
     },
     "metadata": {
      "needs_background": "light"
     },
     "output_type": "display_data"
    }
   ],
   "source": [
    "import matplotlib.pyplot as plt\n",
    "\n",
    "fig, axes = plt.subplots(nrows=2, ncols=2)\n",
    "axes = axes.flatten()\n",
    "fig.tight_layout()\n",
    "\n",
    "for i, m in enumerate(head):\n",
    "    \n",
    "    for iris_type, color in zip(iris_types, colors):\n",
    "        \n",
    "        values = [ v for v,t in zip(data[i], data[4]) if t == iris_type ]\n",
    "        \n",
    "        axes[i].hist(values, density=True,histtype='step', stacked=True, fill=False)\n",
    "        \n",
    "        axes[i].set_title(m)\n",
    "    \n",
    "\n",
    "fig.legend(labels=iris_types, loc=\"lower center\", ncol=3,bbox_to_anchor=(0.5,1))\n",
    "\n",
    "# center the plot\n",
    "from IPython.core.display import HTML\n",
    "HTML(\"\"\"\n",
    "<style>\n",
    ".output_png {\n",
    "    display: table-cell;\n",
    "    text-align: center;\n",
    "    vertical-align: middle;\n",
    "}\n",
    "</style>\n",
    "\"\"\")"
   ]
  },
  {
   "cell_type": "markdown",
   "metadata": {},
   "source": [
    "Furthermore, it is clear that the most \"characteristic\" flower among these three is the Iris-setosa"
   ]
  },
  {
   "cell_type": "markdown",
   "metadata": {},
   "source": [
    "5. (*) Based on the considerations of Exercise 3, assign the flowers with the following measurements to what you consider would be the most likely species.\n",
    "\n",
    "5.2, 3.1, 4.0, 1.2 <br />\n",
    "4.9, 2.5, 5.6, 2.0 <br />\n",
    "5.4, 3.2, 1.9, 0.4 <br />\n",
    "\n",
    "In this case I'd plot the previous graphs and I'd plot these points inside them, and see how far are they from the highest point of the scatter"
   ]
  },
  {
   "cell_type": "code",
   "execution_count": 113,
   "metadata": {},
   "outputs": [
    {
     "data": {
      "text/html": [
       "\n",
       "<style>\n",
       ".output_png {\n",
       "    display: table-cell;\n",
       "    text-align: center;\n",
       "    vertical-align: middle;\n",
       "}\n",
       "</style>\n"
      ],
      "text/plain": [
       "<IPython.core.display.HTML object>"
      ]
     },
     "execution_count": 113,
     "metadata": {},
     "output_type": "execute_result"
    },
    {
     "data": {
      "image/png": "[encoded data removed]",
      "text/plain": [
       "<Figure size 432x288 with 4 Axes>"
      ]
     },
     "metadata": {
      "needs_background": "light"
     },
     "output_type": "display_data"
    }
   ],
   "source": [
    "flowers = [[5.2, 3.1, 4.0, 1.2],[4.9, 2.5, 5.6, 2.0],[5.4, 3.2, 1.9, 0.4]]\n",
    "\n",
    "import matplotlib.pyplot as plt\n",
    "\n",
    "fig, axes = plt.subplots(nrows=2, ncols=2)\n",
    "axes = axes.flatten()\n",
    "fig.tight_layout()\n",
    "\n",
    "for i, m in enumerate(head):\n",
    "    subset = []\n",
    "    for iris_type, color in zip(iris_types, colors):\n",
    "        \n",
    "        values = [ v for v,t in zip(data[i], data[4]) if t == iris_type ]\n",
    "        \n",
    "        axes[i].hist(values, density=True,histtype='step', stacked=True, fill=False)\n",
    "        \n",
    "        axes[i].set_title(m)\n",
    "        \n",
    "    # get the points\n",
    "    for x,y in enumerate(flowers):\n",
    "        subset.append(y[i])\n",
    "\n",
    "    axes[i].plot([subset[0]],[2], marker=\"o\", color=\"r\", ls='') \n",
    "    axes[i].plot([subset[1]],[2], marker=\"o\", color=\"g\", ls='')\n",
    "    axes[i].plot([subset[2]],[2], marker=\"o\", color=\"b\", ls='')\n",
    "    \n",
    "legend_lab = ['Flower1','Flower2','Flower3'] + iris_types\n",
    "fig.legend(labels=legend_lab, loc=\"lower center\", ncol=2,bbox_to_anchor=(0.5,1))\n",
    "\n",
    "# center the plot\n",
    "from IPython.core.display import HTML\n",
    "HTML(\"\"\"\n",
    "<style>\n",
    ".output_png {\n",
    "    display: table-cell;\n",
    "    text-align: center;\n",
    "    vertical-align: middle;\n",
    "}\n",
    "</style>\n",
    "\"\"\")"
   ]
  },
  {
   "cell_type": "markdown",
   "metadata": {},
   "source": [
    "Analyzing step by step, I can guess that the first flower (the green point) is an Iris-Virginica. The second one (the point in the middle) could be an Iris-Setosa, and the third one should be an Iris-Versicolor"
   ]
  },
  {
   "cell_type": "markdown",
   "metadata": {},
   "source": [
    "## CITYBIKE Dataset\n",
    "\n",
    "Citybik.es is a website that offers an Application Programming Interface (or API, for short) for the usage ofbike-sharing services throughout the world. Among the others, data for one of Turin’s bike sharing system([TO]Bike) is available. For [TO]Bike, the information available is at a “station” granularity. This meansthat all the data available regards the bike stations: some of the useful information available is the stationname, its position (in terms of latitude and longitude), the number of available bikes and the number offree docks. The data is offered in near real-time (i.e. it is updated every 15-30 minutes).The API endpoint to request the data about for the [TO]Bike service is the following: http://api.citybik.es/v2/networks/to-bike\n",
    "\n",
    "<hr />\n",
    "\n",
    "1. Load the previously downloaded Citybik.es dataset as a Python dictionary. You can make use of the json module presented. You can find the full documentation for the json module here. After thedictionary is loaded, explore its contents from an interactive shell.\n",
    "\n"
   ]
  },
  {
   "cell_type": "code",
   "execution_count": 121,
   "metadata": {},
   "outputs": [
    {
     "name": "stdout",
     "output_type": "stream",
     "text": [
      "dict_keys(['network'])\n"
     ]
    }
   ],
   "source": [
    "import json\n",
    "\n",
    "with open(\"../Datasets/to-bike.json\") as f:\n",
    "    dic = json.load(f)\n",
    "    print(dic.keys())"
   ]
  },
  {
   "cell_type": "code",
   "execution_count": 122,
   "metadata": {},
   "outputs": [
    {
     "data": {
      "text/plain": [
       "dict_keys(['company', 'href', 'id', 'location', 'name', 'source', 'stations'])"
      ]
     },
     "execution_count": 122,
     "metadata": {},
     "output_type": "execute_result"
    }
   ],
   "source": [
    "dic[\"network\"].keys()"
   ]
  },
  {
   "cell_type": "markdown",
   "metadata": {},
   "source": [
    "The most relevant column is \"stations\". Once it is a list, for seeing the structure, we can just print the first record"
   ]
  },
  {
   "cell_type": "code",
   "execution_count": 123,
   "metadata": {},
   "outputs": [
    {
     "data": {
      "text/plain": [
       "{'empty_slots': 0,\n",
       " 'extra': {'number': 2,\n",
       "  'reviews': 1671,\n",
       "  'score': 4.6,\n",
       "  'status': 'online',\n",
       "  'uid': '251'},\n",
       " 'free_bikes': 0,\n",
       " 'id': '15af4cdd63c01ecaf5851e36c8faf608',\n",
       " 'latitude': 45.082462,\n",
       " 'longitude': 7.695677,\n",
       " 'name': 'Bologna',\n",
       " 'timestamp': '2020-10-08T12:51:38.002000Z'}"
      ]
     },
     "execution_count": 123,
     "metadata": {},
     "output_type": "execute_result"
    }
   ],
   "source": [
    "dic[\"network\"][\"stations\"][0]"
   ]
  },
  {
   "cell_type": "markdown",
   "metadata": {},
   "source": [
    "2. Count and print the number of active stations (a station is active if its extra.status field is \"online\")\n",
    "\n",
    "Before going deeper, let's see how can we access to the first field"
   ]
  },
  {
   "cell_type": "code",
   "execution_count": 117,
   "metadata": {},
   "outputs": [
    {
     "data": {
      "text/plain": [
       "'online'"
      ]
     },
     "execution_count": 117,
     "metadata": {},
     "output_type": "execute_result"
    }
   ],
   "source": [
    "dic[\"network\"][\"stations\"][0][\"extra\"][\"status\"]"
   ]
  },
  {
   "cell_type": "markdown",
   "metadata": {},
   "source": [
    "There are several ways to solve that question, a possible approach could be the following one"
   ]
  },
  {
   "cell_type": "code",
   "execution_count": 118,
   "metadata": {},
   "outputs": [
    {
     "name": "stdout",
     "output_type": "stream",
     "text": [
      "Online stations:\t 113\n"
     ]
    }
   ],
   "source": [
    "active_station = 0\n",
    "for i in enumerate(dic[\"network\"][\"stations\"]):\n",
    "    \"\"\"\n",
    "        the first element is the key's station\n",
    "    \"\"\"\n",
    "    if i[1][\"extra\"][\"status\"] == \"online\":\n",
    "        active_station += 1\n",
    "    \n",
    "print(\"Online stations:\\t\", active_station)"
   ]
  },
  {
   "cell_type": "markdown",
   "metadata": {},
   "source": [
    "Another fancy way could be the following one: \n",
    "- The list active_station_V2 will contain 1 for each online station\n",
    "- sum them up with the sum operator <br />\n",
    "\n",
    "In this way it can be solved in just one line!"
   ]
  },
  {
   "cell_type": "code",
   "execution_count": 119,
   "metadata": {},
   "outputs": [
    {
     "name": "stdout",
     "output_type": "stream",
     "text": [
      "Online stations V2:\t 113\n"
     ]
    }
   ],
   "source": [
    "active_stationV2 = sum([ 1 for i in enumerate(dic[\"network\"][\"stations\"]) if i[1][\"extra\"][\"status\"] == \"online\" ])\n",
    "print(\"Online stations V2:\\t\",active_stationV2)"
   ]
  },
  {
   "cell_type": "markdown",
   "metadata": {},
   "source": [
    "3. Count and print the total number of bikes available (field free_bikes) and the number of free docks(field empty_slots) throughout all stations."
   ]
  },
  {
   "cell_type": "code",
   "execution_count": 120,
   "metadata": {},
   "outputs": [
    {
     "name": "stdout",
     "output_type": "stream",
     "text": [
      "Bikes available:  181\n",
      "Free docks:  669\n"
     ]
    }
   ],
   "source": [
    "# proceed as before\n",
    "\n",
    "bikes_available = 0\n",
    "free_docks = 0\n",
    "\n",
    "for i in enumerate(dic[\"network\"][\"stations\"]):\n",
    "    \"\"\"\n",
    "        the first element is the key's station\n",
    "    \"\"\"\n",
    "    bikes_available += i[1][\"free_bikes\"]\n",
    "    free_docks += i[1][\"empty_slots\"]\n",
    "    \n",
    "print(\"Bikes available: \", bikes_available)\n",
    "print(\"Free docks: \", free_docks)"
   ]
  },
  {
   "cell_type": "markdown",
   "metadata": {},
   "source": [
    "4. (*) Given the coordinates (latitude, longitude) of a point (e.g.45.074512,7.694419), identify the closest bike station to it that has available bikes. For computing the distance among two points(given their coordinates), you can use the functiondistance_coords()defined in the code snippetbelow (which is an implementation of the great-circle distance):"
   ]
  },
  {
   "cell_type": "code",
   "execution_count": 127,
   "metadata": {},
   "outputs": [],
   "source": [
    "from math import cos, acos, sin\n",
    "\n",
    "def distance_coords(lat1, lng1, lat2, lng2):\n",
    "    \"\"\"Compute the distance among two points.\"\"\"\n",
    "    deg2rad = lambda x: x * 3.141592 / 180 \n",
    "    lat1, lng1, lat2, lng2 = map(deg2rad, [ lat1, lng1, lat2, lng2 ])\n",
    "    R = 6378100 # Radius of the Earth, in meters\n",
    "    return R * acos(sin(lat1) * sin(lat2) + cos(lat1) * cos(lat2) * cos(lng1 - lng2))"
   ]
  },
  {
   "cell_type": "markdown",
   "metadata": {},
   "source": [
    "Firstly we need a vector containing all the distances and another one containig the IDs of those available stations. After that we can get the index of the \"nearest\" station and consequently we can get all the information that we need. "
   ]
  },
  {
   "cell_type": "code",
   "execution_count": 154,
   "metadata": {},
   "outputs": [
    {
     "name": "stdout",
     "output_type": "stream",
     "text": [
      "The nearest station is located at 259.2296 -unit measure- from you! \n",
      "\n",
      " \n",
      "Detailed information **\n",
      "\n",
      "{'empty_slots': 9,\n",
      " 'extra': {'number': 96,\n",
      "           'reviews': 518,\n",
      "           'score': 4.4,\n",
      "           'status': 'online',\n",
      "           'uid': '346'},\n",
      " 'free_bikes': 1,\n",
      " 'id': '38d1439b1df809b01429cd75224c1581',\n",
      " 'latitude': 45.076832,\n",
      " 'longitude': 7.694134,\n",
      " 'name': 'Regio Parco',\n",
      " 'timestamp': '2020-10-08T12:51:38.002000Z'}\n"
     ]
    }
   ],
   "source": [
    "import pprint \n",
    "\n",
    "# given latitude and longitude\n",
    "coordinates = [45.074512,7.694419]\n",
    "\n",
    "# all the distance between the station and the given location\n",
    "distances = []\n",
    "# id of the relative stations' distances\n",
    "id_stations = []\n",
    "\n",
    "for i,s in enumerate(dic[\"network\"][\"stations\"]):\n",
    "    if s[\"free_bikes\"] > 0 and s[\"extra\"][\"status\"] == \"online\":\n",
    "        id_stations.append(i)\n",
    "        distances.append(distance_coords(coordinates[0],coordinates[1],s[\"latitude\"],s[\"longitude\"]))\n",
    "\n",
    "print(f\"The nearest station is located at {min(distances):.4f} -unit measure- from you! \\n\\n \")\n",
    "\n",
    "station = dic[\"network\"][\"stations\"][id_stations[distances.index(min(distances))]]\n",
    "print(f\"Detailed information **\\n\")\n",
    "pprint.pprint(station)\n"
   ]
  },
  {
   "cell_type": "markdown",
   "metadata": {},
   "source": [
    "## MNIST dataset\n",
    "\n",
    "The MNIST dataset is another particularly famous dataset. It contains several thousands of hand-writtendigits (0 to 9). Each hand-written digit is contained in a28×288-bit grayscale image. This means thateach digit has 784 (282) pixels, and each pixel has a value that ranges from 0 (black) to 255 (white).Figure 2 shows one such digit.The dataset can be downloaded from the following URL:https://raw.githubusercontent.com/dbdmg/data-science-lab/master/datasets/mnist_test.csvIn this case, MNIST is represented as a CSV file. Similarly to the Iris dataset, each row of the MNISTdatasets represents a digit. For the sake of simplicity, this dataset contains only a small fraction (10,000digits out of70,000) of the real MNIST dataset, which is known as the MNIST test set (you will learn moreon training and test sets). For each digit, 785 values are available: the first one is the numerical valuedepicted in the image (e.g. for Figure 2 it would be 5). The following 784 columns represent the grayscale image in row-major order\n",
    "\n",
    "<hr />\n",
    "\n",
    "1. Load the previously downloaded MNIST dataset. You can make use of the csv module already presented.\n"
   ]
  },
  {
   "cell_type": "code",
   "execution_count": 155,
   "metadata": {},
   "outputs": [],
   "source": [
    "import csv\n",
    "\n",
    "data_mnist = []\n",
    "numbers = []\n",
    "\n",
    "with open('../Datasets/mnist_test.csv') as f:\n",
    "    for cols in csv.reader(f):\n",
    "        numbers.append(int(cols.pop(0)))\n",
    "        \"\"\" \n",
    "            map(int,cols) coverts all the elements of the list from string to int\n",
    "        \"\"\"\n",
    "        data_mnist.append(list(map(int, cols)))"
   ]
  },
  {
   "cell_type": "markdown",
   "metadata": {},
   "source": [
    "2. Create a function that, given a position 1≤k≤10,000, prints the k^(th) digit of the dataset (i.e. the k^(th) row of the csv file) as a grid of 28×28characters. More specifically, you should map each range of pixel values to the following characters: <br />\n",
    "• [0,64)→\" \"<br />\n",
    "• [64,128)→\".\"<br />\n",
    "• [128,192)→\"*\"<br />\n",
    "• [192,256)→\"#\"<br />\n",
    "\n",
    "The first step is to generate a random value with the random library. Remember that we saved the numbers into the \"numbers\" list, so we can print the relative number before the grid. \n",
    "The grid is not necessary, in fact we can just add a breakline every 28 elements (i % 28 == 0) and then we can plot the corrispective charachter with many if clauses in cascade. "
   ]
  },
  {
   "cell_type": "code",
   "execution_count": 207,
   "metadata": {},
   "outputs": [
    {
     "name": "stdout",
     "output_type": "stream",
     "text": [
      "The random value is: \t 8600\n",
      "The k^th number is:\t 1\n",
      "\n",
      "                            \n",
      "                            \n",
      "                            \n",
      "                            \n",
      "              .#*           \n",
      "              *##           \n",
      "              *##           \n",
      "              *##           \n",
      "              *##.          \n",
      "             .###*          \n",
      "             *###.          \n",
      "              ###           \n",
      "             *##.           \n",
      "             ###            \n",
      "             ###            \n",
      "            *##*            \n",
      "            *##.            \n",
      "            ###             \n",
      "            ###             \n",
      "           *###             \n",
      "           ###*             \n",
      "           ###              \n",
      "          *##.              \n",
      "          .##               \n",
      "                            \n",
      "                            \n",
      "                            \n",
      "                            "
     ]
    }
   ],
   "source": [
    "import random\n",
    "\n",
    "def print_element(k):\n",
    "    print(\"The random value is: \\t\",k-1)\n",
    "    print(\"The k^th number is:\\t\",numbers[k-1])\n",
    "\n",
    "    for i,elem in enumerate(data_mnist[k-1]):\n",
    "\n",
    "        if i % 28 == 0:\n",
    "            print()\n",
    "        \"\"\"\n",
    "            print(\" ... \", end=\"\") allows to print more elements in the same line\n",
    "        \"\"\"\n",
    "\n",
    "        if elem < 64:\n",
    "            print(\" \",end=\"\")\n",
    "        elif elem < 128:\n",
    "            print(\".\",end=\"\")\n",
    "        elif elem < 192:\n",
    "            print(\"*\",end=\"\")\n",
    "        elif elem < 256:\n",
    "            print(\"#\",end=\"\") \n",
    "            \n",
    "print_element(random.randint(1,10000))"
   ]
  },
  {
   "cell_type": "markdown",
   "metadata": {},
   "source": [
    "3. Compute the Euclidean distance between each pair of the 784-dimensional vectors of the digits at the following positions: 26th,30th,32nd,35th.\n",
    "\n",
    "Firstly, I'd like to start with a toy example, in order to imporove the script step by step"
   ]
  },
  {
   "cell_type": "code",
   "execution_count": 157,
   "metadata": {},
   "outputs": [
    {
     "name": "stdout",
     "output_type": "stream",
     "text": [
      "2.23606797749979\n"
     ]
    }
   ],
   "source": [
    "a = [3,2]\n",
    "b = [1,1]\n",
    "\n",
    "d = sum([ (a[i]-b[i])**2 for i in range(len(a))])**0.5\n",
    "\n",
    "print(d)"
   ]
  },
  {
   "cell_type": "code",
   "execution_count": 176,
   "metadata": {},
   "outputs": [
    {
     "data": {
      "text/plain": [
       "7"
      ]
     },
     "execution_count": 176,
     "metadata": {},
     "output_type": "execute_result"
    }
   ],
   "source": [
    "numbers[34]"
   ]
  },
  {
   "cell_type": "markdown",
   "metadata": {},
   "source": [
    "An intuitive way to execute this calculation is to take the first one and compare it with the following ones, then we take the second one and we compare it with its following and go on.."
   ]
  },
  {
   "cell_type": "code",
   "execution_count": 190,
   "metadata": {},
   "outputs": [
    {
     "name": "stdout",
     "output_type": "stream",
     "text": [
      "[ 26th , 30th ]\t 3539.2232\n",
      "[ 26th , 32th ]\t 3556.4200\n",
      "[ 26th , 35th ]\t 3223.2069\n",
      "[ 30th , 32th ]\t 1171.8293\n",
      "[ 30th , 35th ]\t 2531.0034\n",
      "[ 32th , 35th ]\t 2515.5600\n"
     ]
    }
   ],
   "source": [
    "indexes = [25,29,31,34]\n",
    "\n",
    "for i in range(len(indexes)):\n",
    "    for j in range(i+1,len(indexes)):\n",
    "        \n",
    "        x = data_mnist[indexes[i]]\n",
    "        y = data_mnist[indexes[j]]  \n",
    "        \n",
    "        z = sum([ (x[k]-y[k])**2 for k in range(len(x))])**0.5\n",
    "        \n",
    "        print(f\"[ {indexes[i]+1}th , {indexes[j]+1}th ]\\t {z:.4f}\")\n",
    "    "
   ]
  },
  {
   "cell_type": "markdown",
   "metadata": {},
   "source": [
    "4. (*) Based on the distances computed in the previous step and knowing that the digits listed in Exercise 3 are (not necessarily in this order)7,0,1,1, can you assign the correct label to each of the digits of Exercise 3? \n",
    "\n",
    "Well, firstly we can just make assumptions based on the euclidean distance. So, because we have two equal we expect that they have the shorter distance. So I guess that the 30th and the 32th are both 1. <br />\n",
    "Now we need to evaluate the other two values, respectively 7 and 0. Seven is closer to 1, so I can imagine that 0 correspond to the shorter distance between the couples (26th,30th) and (26th,35th). Hence, in my opinion the 26th elementh should be 0 and the 35th should be 7 "
   ]
  },
  {
   "cell_type": "code",
   "execution_count": 191,
   "metadata": {},
   "outputs": [
    {
     "data": {
      "text/plain": [
       "[0, 1, 1, 7]"
      ]
     },
     "execution_count": 191,
     "metadata": {},
     "output_type": "execute_result"
    }
   ],
   "source": [
    "[ numbers[indexes[i]] for i in range(len(indexes))]"
   ]
  },
  {
   "cell_type": "markdown",
   "metadata": {},
   "source": [
    "5. (*) There are 1,135 1’s and 980 0’s in the dataset. For all 0’s and 1’s separately, count the number of times each of the 784 pixels is black (use 128 as the threshold value). You can do this by building a list Z and a list O, each containing 784 elements, containing respectively the counts for the 0’s andthe 1’s. Z[i] and O[i] contain the number of times the ith pixel was black for either class. For each value i, compute abs(Z[i] - O[i]). The i with the highest value represents the pixel that best separates the digits “0” and “1” (i.e. the pixel that is most often black for one class and white for theother). Where is this pixel located within the grid? Why is it?"
   ]
  },
  {
   "cell_type": "code",
   "execution_count": 206,
   "metadata": {},
   "outputs": [
    {
     "name": "stdout",
     "output_type": "stream",
     "text": [
      "The pixel with the highest difference is the 428th\n"
     ]
    }
   ],
   "source": [
    "# Initialize\n",
    "Z  = [ 0 for i in range(784) ]\n",
    "O = [ 0 for i in range(784) ]\n",
    "\n",
    "# Check 0 and 1\n",
    "for row, number in zip(data_mnist, numbers):\n",
    "    if number == 0:\n",
    "        for i, element in enumerate(row):\n",
    "            if element >= 128:\n",
    "                Z[i] += 1\n",
    "        \n",
    "    elif number == 1: \n",
    "        for i, element in enumerate(row):\n",
    "            if element >= 128:\n",
    "                O[i] += 1\n",
    "        \n",
    "    else:\n",
    "        continue\n",
    "\n",
    "D = [ (a-b) for a,b in zip(Z,O)]\n",
    "\n",
    "print(f\"The pixel with the highest difference is the {D.index(max(D))}th\")"
   ]
  },
  {
   "cell_type": "markdown",
   "metadata": {},
   "source": [
    "We found the location but we have to understand why. The optimal way to do that is printing both numbers and at the same time it would be useful to print also the 428th pixel, in order to understand the spatial location. Instead of printing a random 1 or a random 0, we could print Z and 0, but in this case we should edit the print function"
   ]
  },
  {
   "cell_type": "code",
   "execution_count": 219,
   "metadata": {},
   "outputs": [
    {
     "name": "stdout",
     "output_type": "stream",
     "text": [
      "\n",
      "                            \n",
      "                            \n",
      "                            \n",
      "                            \n",
      "            .*#%%#*.        \n",
      "          .*%%%%%%%%#.      \n",
      "         .#%%%%%%%%%%#.     \n",
      "        .#%%%%%%%%%%%%#     \n",
      "       .*%%%%%%%%%%%%%%.    \n",
      "       *#%%%%%%%%%%%%%%*    \n",
      "      .#%%%%%%%#*#%%%%%#.   \n",
      "      *%%%%%%%*...#%%%%%.   \n",
      "     .#%%%%%%*    *%%%%%*   \n",
      "     *%%%%%%*     *%%%%%*   \n",
      "     #%%%%%#.     *%%%%%.   \n",
      "     #%%?%%*     .#%%%%%.   \n",
      "     %%%%%%.    .*%%%%%#    \n",
      "    .%%%%%#.   .*%%%%%%*    \n",
      "    .%%%%%%*..*#%%%%%%#.    \n",
      "    .%%%%%%%#%%%%%%%%#.     \n",
      "     #%%%%%%%%%%%%%%%*      \n",
      "     .%%%%%%%%%%%%%#*       \n",
      "      *%%%%%%%%%%%#.        \n",
      "       .#%%%%%%%#*.         \n",
      "          ..*...            \n",
      "                            \n",
      "                            \n",
      "                            \n",
      "                            \n",
      "                            \n",
      "                            \n",
      "                            \n",
      "             .##***..       \n",
      "            .#%%%%%#*.      \n",
      "            *%%%%%%#*.      \n",
      "            *%%%%%%#.       \n",
      "            *%%%%%%*.       \n",
      "            .%%%%%%.        \n",
      "            .%%%%%*         \n",
      "            .%%%%%.         \n",
      "            .%%%%#          \n",
      "            *%%%%.          \n",
      "            %%%%%           \n",
      "        ?  .%%%%*           \n",
      "           *%%%%*           \n",
      "          .%%%%%*           \n",
      "         .*%%%%%*           \n",
      "         .%%%%%%*           \n",
      "        .*%%%%%%*.          \n",
      "        *#%%%%%%#.          \n",
      "       .*%%%%%%%#.          \n",
      "       .*#%%%%%%*           \n",
      "         .......            \n",
      "                            \n",
      "                            \n",
      "                            "
     ]
    }
   ],
   "source": [
    "def print_array(A):\n",
    "\n",
    "    for i,elem in enumerate(A):\n",
    "\n",
    "        if i % 28 == 0:\n",
    "            print()\n",
    "        \"\"\"\n",
    "            print(\" ... \", end=\"\") allows to print more elements in the same line\n",
    "            let's keep the order of that if-else, even if the numbers have different meaning\n",
    "        \"\"\"\n",
    "        if i == 428:\n",
    "            print(\"?\",end=\"\")\n",
    "        else: \n",
    "            if elem < 64:\n",
    "                print(\" \",end=\"\")\n",
    "            elif elem < 128:\n",
    "                print(\".\",end=\"\")\n",
    "            elif elem < 192:\n",
    "                print(\"*\",end=\"\")\n",
    "            elif elem < 256:\n",
    "                print(\"#\",end=\"\") \n",
    "            else:\n",
    "                print(\"%\",end=\"\")\n",
    "            \n",
    "print_array(Z)\n",
    "print_array(O)"
   ]
  },
  {
   "cell_type": "markdown",
   "metadata": {},
   "source": [
    "I think that in the 428th pixel there is the highest difference because it is in the middle section of the 0, so it means that it is covered very often and on the other side, for the 1, it isn't taken at all."
   ]
  },
  {
   "cell_type": "code",
   "execution_count": null,
   "metadata": {},
   "outputs": [],
   "source": []
  }
 ],
 "metadata": {
  "kernelspec": {
   "display_name": "Python 3",
   "language": "python",
   "name": "python3"
  },
  "language_info": {
   "codemirror_mode": {
    "name": "ipython",
    "version": 3
   },
   "file_extension": ".py",
   "mimetype": "text/x-python",
   "name": "python",
   "nbconvert_exporter": "python",
   "pygments_lexer": "ipython3",
   "version": "3.8.3"
  }
 },
 "nbformat": 4,
 "nbformat_minor": 4
}
