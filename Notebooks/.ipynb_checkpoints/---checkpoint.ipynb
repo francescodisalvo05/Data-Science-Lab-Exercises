{
 "cells": [
  {
   "cell_type": "markdown",
   "metadata": {},
   "source": [
    "# CARICAMENTO DATI"
   ]
  },
  {
   "cell_type": "code",
   "execution_count": 186,
   "metadata": {},
   "outputs": [],
   "source": [
    "import os \n",
    "import numpy as np\n",
    "from scipy.io import wavfile\n",
    "\n",
    "def get_data(type):\n",
    "    \n",
    "    if type not in ['eval','dev']:\n",
    "        print(\"-- Parametro non riconosciuto\")\n",
    "        exit(0)\n",
    "    \n",
    "    path = '../Datasets/free-spoken-digit/' + type + '/'\n",
    "    \n",
    "    audio_files = os.listdir(path)\n",
    "    \n",
    "    # we have to initialize them\n",
    "    # otherwise we cannot have access trough indices\n",
    "    X = [None for i in range(len(audio_files))]\n",
    "    y = [None for i in range(len(audio_files))]\n",
    "    rates = [None for i in range(len(audio_files))]\n",
    "    \n",
    "    id_audio = None\n",
    "    \n",
    "    for audio_file in audio_files:\n",
    "        \n",
    "        \"\"\"\n",
    "            eval and dev have two different structures\n",
    "                dev  : id_label.wav\n",
    "                eval : id.wav \n",
    "        \"\"\" \n",
    "        \n",
    "        # id\n",
    "        if type == \"dev\":\n",
    "            id_audio = int(audio_file.split(\"_\")[0])\n",
    "            y[id_audio] = int(audio_file.split(\".\")[0].split(\"_\")[1])\n",
    "        else:\n",
    "            id_audio = int(audio_file.split(\".\")[0])\n",
    "            y[id_audio] = id_audio\n",
    "        \n",
    "        complete_path = path + audio_file\n",
    "        \n",
    "        rates[id_audio], X[id_audio] = wavfile.read(complete_path)\n",
    "\n",
    "    return rates, X, y "
   ]
  },
  {
   "cell_type": "code",
   "execution_count": 187,
   "metadata": {},
   "outputs": [],
   "source": [
    "Rates_eval, X_eval, ids  = get_data('eval')\n",
    "Rates_dev,  X_dev, y_dev = get_data('dev')"
   ]
  },
  {
   "cell_type": "markdown",
   "metadata": {},
   "source": [
    "# PREPROCESSING"
   ]
  },
  {
   "cell_type": "code",
   "execution_count": 188,
   "metadata": {},
   "outputs": [
    {
     "data": {
      "text/plain": [
       "Text(0.5, 1.0, 'length_eval')"
      ]
     },
     "execution_count": 188,
     "metadata": {},
     "output_type": "execute_result"
    },
    {
     "data": {
      "image/png": "[encoded data removed]",
      "text/plain": [
       "<Figure size 1080x288 with 2 Axes>"
      ]
     },
     "metadata": {},
     "output_type": "display_data"
    }
   ],
   "source": [
    "import matplotlib.pyplot as plt\n",
    "import seaborn as sns\n",
    "\n",
    "sns.set_style('darkgrid')\n",
    "\n",
    "lengths_dev = [ len(audio) for audio in X_dev]\n",
    "lengths_eval = [ len(audio) for audio in X_eval]\n",
    "\n",
    "fig, ax = plt.subplots(1,2,figsize=(15,4))\n",
    "\n",
    "sns.distplot(lengths_dev, ax=ax[0])\n",
    "ax[0].set_title('length_dev')\n",
    "sns.distplot(lengths_eval, ax=ax[1])\n",
    "ax[1].set_title('length_eval')"
   ]
  },
  {
   "cell_type": "code",
   "execution_count": 189,
   "metadata": {},
   "outputs": [],
   "source": [
    "from scipy.stats import zscore\n",
    "\n",
    "def normalize(X):\n",
    "    return [zscore(arr) for arr in X]\n",
    "\n",
    "X_dev_norm = normalize(X_dev)\n",
    "X_eval_norm = normalize(X_eval)"
   ]
  },
  {
   "cell_type": "code",
   "execution_count": 190,
   "metadata": {},
   "outputs": [],
   "source": [
    "def cut_and_stretch(X, threshold):\n",
    "    temp =  [ arr if len(arr) <= threshold else arr[:threshold] for arr in X ]\n",
    "    return  [np.pad(x, (0,thres-len(x)), constant_values=0.0) for x in temp]"
   ]
  },
  {
   "cell_type": "code",
   "execution_count": 191,
   "metadata": {},
   "outputs": [],
   "source": [
    "thres = 5000\n",
    "X_dev_cut = cut_and_stretch(X_dev_norm,thres)\n",
    "X_eval_cut = cut_and_stretch(X_eval_norm,thres)"
   ]
  },
  {
   "cell_type": "markdown",
   "metadata": {},
   "source": [
    "## Dominio della frequenza"
   ]
  },
  {
   "cell_type": "code",
   "execution_count": 192,
   "metadata": {},
   "outputs": [],
   "source": [
    "# MFCC\n",
    "import librosa, librosa.display, librosa.core\n",
    "import pandas as pd\n",
    "\n",
    "MFCCs = [np.matrix(librosa.feature.mfcc(x)).flatten() for x in X_dev_cut ]\n",
    "MFCCs_eval = [np.matrix(librosa.feature.mfcc(x)).flatten() for x in X_eval_cut ]\n",
    "\n",
    "M = np.array(MFCCs).transpose(1,0,2).reshape(1500,200)\n",
    "M_eval = np.array(MFCCs_eval).transpose(1,0,2).reshape(500,200)"
   ]
  },
  {
   "cell_type": "markdown",
   "metadata": {},
   "source": [
    "# Model"
   ]
  },
  {
   "cell_type": "code",
   "execution_count": 193,
   "metadata": {},
   "outputs": [],
   "source": [
    "from sklearn.ensemble import RandomForestClassifier\n",
    "from sklearn.model_selection import train_test_split\n",
    "from sklearn.metrics import classification_report\n",
    "\n",
    "X_train, X_test, y_train, y_test = train_test_split(M,y_dev, test_size=0.20, stratify=y_dev)"
   ]
  },
  {
   "cell_type": "code",
   "execution_count": 194,
   "metadata": {},
   "outputs": [
    {
     "name": "stdout",
     "output_type": "stream",
     "text": [
      "              precision    recall  f1-score   support\n",
      "\n",
      "           0       1.00      1.00      1.00        30\n",
      "           1       1.00      1.00      1.00        30\n",
      "           2       1.00      1.00      1.00        30\n",
      "           3       0.94      1.00      0.97        30\n",
      "           4       1.00      1.00      1.00        30\n",
      "           5       1.00      0.97      0.98        30\n",
      "           6       0.97      0.93      0.95        30\n",
      "           7       1.00      1.00      1.00        30\n",
      "           8       1.00      0.97      0.98        30\n",
      "           9       0.97      1.00      0.98        30\n",
      "\n",
      "    accuracy                           0.99       300\n",
      "   macro avg       0.99      0.99      0.99       300\n",
      "weighted avg       0.99      0.99      0.99       300\n",
      "\n"
     ]
    }
   ],
   "source": [
    "c = RandomForestClassifier(max_depth=200, n_estimators=2000, n_jobs=4)\n",
    "c.fit(X_train,y_train)\n",
    "y_pred_2 = c.predict(X_test)\n",
    "print(classification_report(y_test,y_pred_2))"
   ]
  },
  {
   "cell_type": "markdown",
   "metadata": {},
   "source": [
    "## Train finale"
   ]
  },
  {
   "cell_type": "code",
   "execution_count": 131,
   "metadata": {},
   "outputs": [],
   "source": [
    "c.fit(M,y_dev)\n",
    "y_final = c.predict(M_eval)"
   ]
  },
  {
   "cell_type": "markdown",
   "metadata": {},
   "source": [
    "## CSV"
   ]
  },
  {
   "cell_type": "code",
   "execution_count": 132,
   "metadata": {},
   "outputs": [],
   "source": [
    "import pandas as pd\n",
    "def get_csv(ids, y):\n",
    "    pd.DataFrame(dict( \n",
    "                   Id = ids,\n",
    "                   Predicted = y\n",
    "           )).to_csv(\"submissionV2.csv\",sep=\",\",index=False)"
   ]
  },
  {
   "cell_type": "code",
   "execution_count": 133,
   "metadata": {},
   "outputs": [],
   "source": [
    "get_csv(ids,y_final)"
   ]
  }
 ],
 "metadata": {
  "kernelspec": {
   "display_name": "FrancescoEnv",
   "language": "python",
   "name": "francescoenv"
  },
  "language_info": {
   "codemirror_mode": {
    "name": "ipython",
    "version": 3
   },
   "file_extension": ".py",
   "mimetype": "text/x-python",
   "name": "python",
   "nbconvert_exporter": "python",
   "pygments_lexer": "ipython3",
   "version": "3.7.7"
  }
 },
 "nbformat": 4,
 "nbformat_minor": 4
}
