{
 "cells": [
  {
   "cell_type": "markdown",
   "metadata": {},
   "source": [
    "# **2-Laboratory-15-10-2020**\n",
    "\n",
    "| Credits to the authors of the exercises: Andrea Pasini, Giuseppe Attanasio, Flavio Giobergia <br />\n",
    "| Master of Science in Data Science and Engineering, Politecnico di Torino, A.A. 2020-21\n",
    "\n",
    "## Online Retail Dataset \n",
    "The Online Retail Data Set is a dataset made available on the UCI Machine Learning repository. It which contains all the transactions occurring between 01/12/2010 and 09/12/2011 for a UK-based online retail. The original version of the dataset is available on UCI ML as a .xlsx. For your convenience, we are alsomaking it available as a CSV file at the following URL. <br />\n",
    "Each of the 541,909 rows contains an item that has been purchased by someone. Items can be grouped into invoices (you can think of these as receipts), where each invoice has been issued for a specific buyer,and can contain multiple items. The columns contained in the CSV file are the following:\n",
    "- InvoiceNo: Invoice number. Nominal, a 6-digit integral number uniquely assigned to each transac-tion. If this code starts with letter §c’, it indicates a cancellation.\n",
    "- StockCode: Product (item) code. Nominal, a 5-digit integral number uniquely assigned to each distinct product.\n",
    "- Description: Product (item) name. Nominal.\n",
    "- Quantity: The quantities of each product (item) per transaction. Numeric.\n",
    "- InvoiceDate: Invice Date and time. Numeric, the day and time when each transaction was generated.\n",
    "- UnitPrice: Unit price. Numeric, Product price per unit in sterling.\n",
    "- CustomerID: Customer number. Nominal, a 5-digit integral number uniquely assigned to each cus-tomer.\n",
    "- Country: Country name. Nominal, the name of the country where each customer resides.\n",
    "\n",
    "### Questions\n",
    "1. First, you need to load the dataset into memory, using the csv module. Make sure you identify all valid rows. Also consider that rows having an InvoiceNo that starts with C should be discarded, asthey indicate that the invoice is about a cancelled purchase."
   ]
  },
  {
   "cell_type": "code",
   "execution_count": 1,
   "metadata": {},
   "outputs": [],
   "source": [
    "import csv\n",
    "\n",
    "head = ['InvoiceNo', 'StockCode', 'Description', 'Quantity', \n",
    "        'InvoiceDate', 'UnitPrice', 'CustomerID', 'Country']\n",
    "OR_dataset = []\n",
    "with open('../Datasets/online_retail.csv') as f:\n",
    "    next(f)\n",
    "    for row in csv.reader(f):\n",
    "        # canceled item\n",
    "        if row[0][0] == \"C\" and len(row) != 8:\n",
    "            continue\n",
    "        else:\n",
    "            OR_dataset.append(row)\n",
    "            "
   ]
  },
  {
   "cell_type": "code",
   "execution_count": 2,
   "metadata": {},
   "outputs": [
    {
     "data": {
      "text/plain": [
       "['536365',\n",
       " '85123A',\n",
       " 'WHITE HANGING HEART T-LIGHT HOLDER',\n",
       " '6',\n",
       " '12/1/2010 8:26',\n",
       " '2.55',\n",
       " '17850',\n",
       " 'United Kingdom']"
      ]
     },
     "execution_count": 2,
     "metadata": {},
     "output_type": "execute_result"
    }
   ],
   "source": [
    "OR_dataset[0]"
   ]
  },
  {
   "cell_type": "markdown",
   "metadata": {},
   "source": [
    "2. Now that you have a dataset of items, you should aggregate it at an “invoice” level. For each invoice(identified by InvoiceNo) there can be multiple items (from multiple rows) in the dataset. For each invoice, you should build a list of all items belonging to it. \n",
    "\n",
    "Analyzing the transactions' order, you may see that they are in numerical order, so we can use that structure in order to aggregate them by comparing couple of elements."
   ]
  },
  {
   "cell_type": "code",
   "execution_count": 15,
   "metadata": {},
   "outputs": [],
   "source": [
    "invoices = {}\n",
    "\n",
    "for i,transaction in enumerate(OR_dataset):\n",
    "    \"\"\"\n",
    "        if invoices contains already a set of items for \n",
    "        that transaction, it will be added, otherwise \n",
    "        I'll define another keyword in the dictionary\n",
    "    \"\"\"\n",
    "    if transaction[0] not in invoices:\n",
    "        invoices[transaction[0]] = [transaction[2]]\n",
    "    else:\n",
    "        invoices[transaction[0]].append(transaction[2])"
   ]
  },
  {
   "cell_type": "code",
   "execution_count": 16,
   "metadata": {},
   "outputs": [
    {
     "data": {
      "text/plain": [
       "['WHITE HANGING HEART T-LIGHT HOLDER',\n",
       " 'WHITE METAL LANTERN',\n",
       " 'CREAM CUPID HEARTS COAT HANGER',\n",
       " 'KNITTED UNION FLAG HOT WATER BOTTLE',\n",
       " 'RED WOOLLY HOTTIE WHITE HEART.',\n",
       " 'SET 7 BABUSHKA NESTING BOXES',\n",
       " 'GLASS STAR FROSTED T-LIGHT HOLDER']"
      ]
     },
     "execution_count": 16,
     "metadata": {},
     "output_type": "execute_result"
    }
   ],
   "source": [
    "invoices[\"536365\"]"
   ]
  },
  {
   "cell_type": "markdown",
   "metadata": {},
   "source": [
    "3. You should now have a list (one for each invoice) of lists (each list containing the items bought forthat invoice). Now, we need to convert this into a matrix form. Of the many possible formats, we will use the one expected by the Mlxtend library, which is as follows. Given an ordered list of M possible items (in this case, all possible products that can be bought), and given N itemsets (in thiscase, invoices), we should build a matrix of N rows and M columns. \n",
    "\n",
    "Firstly, we need a new list with all the possible items. But, instad of using a list, we'll use a set, in order to avoid duplicate items. After that we can build up the matrix by using Mlxtend"
   ]
  },
  {
   "cell_type": "code",
   "execution_count": 17,
   "metadata": {},
   "outputs": [],
   "source": [
    "items = set()\n",
    "\n",
    "for elements in invoices.values():\n",
    "    items.update(elements)\n",
    "\n",
    "# delete the last element ('')\n",
    "items.pop()\n",
    "\n",
    "# order the elements for a better visualization\n",
    "items = sorted(list(items))"
   ]
  },
  {
   "cell_type": "code",
   "execution_count": 95,
   "metadata": {},
   "outputs": [
    {
     "data": {
      "text/plain": [
       "[[True, True, True], [True, True], [True, True, True]]"
      ]
     },
     "execution_count": 95,
     "metadata": {},
     "output_type": "execute_result"
    }
   ],
   "source": [
    "t = [ ['a','b','c'],['b','c'],['a','c','d'] ]\n",
    "head = ['a','b','c','d']\n",
    "\n",
    "matrix = [  [    ] for row in t ]\n",
    "matrix"
   ]
  },
  {
   "cell_type": "code",
   "execution_count": null,
   "metadata": {},
   "outputs": [],
   "source": []
  }
 ],
 "metadata": {
  "kernelspec": {
   "display_name": "Python 3",
   "language": "python",
   "name": "python3"
  },
  "language_info": {
   "codemirror_mode": {
    "name": "ipython",
    "version": 3
   },
   "file_extension": ".py",
   "mimetype": "text/x-python",
   "name": "python",
   "nbconvert_exporter": "python",
   "pygments_lexer": "ipython3",
   "version": "3.8.3"
  }
 },
 "nbformat": 4,
 "nbformat_minor": 4
}
