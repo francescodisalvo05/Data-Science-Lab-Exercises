{
 "cells": [
  {
   "cell_type": "markdown",
   "metadata": {},
   "source": [
    "# **1-Laboratory-07-10-2020**"
   ]
  },
  {
   "cell_type": "markdown",
   "metadata": {},
   "source": [
    "## IRIS Dataset\n",
    "Iris is a particularly famoustoy dataset(i.e. a dataset with a small number of rows and columns, mostlyused for initial small-scale tests and proofs of concept). This specific dataset contains information aboutthe Iris, a genus that includes 260-300 species of plants (you can read more about Iris on Wikipedia). TheIris dataset contains measurements for 150 Iris flowers, each belonging to one of three species: Virginica,Versicolor and Setosa. (50 flowers for each of the three species). These three species all present similarflowers, as you can see in Figure 1.Each of the 150 flowers contained in the Iris dataset is represented by 5 values:\n",
    "- sepal length, in cm\n",
    "- sepal width, in cm\n",
    "- petal length, in cm\n",
    "- petal width, in cm \n",
    "- Iris species, one of: Iris-setosa, Iris-versicolor, Iris-virginica\n",
    "\n",
    "The dataset is available as a Comma-Separated Values (CSV) file. These files are typically used torepresent tabular data. Each row is represented on one of the lines. Each of the rows contains a fixednumber of columns. Each of the columns (in each row) is separated by a comma (,), hence the name.You can read more about CSV files on Wikipedia.The following are 3 lines taken from the Iris dataset. You should check the contents of the CSV fileyourself to get a sense of what CSV files look like <br />\n",
    "- .5.0,3.6,1.4,0.2,Iris-setosa<br />\n",
    "- 6.3,2.3,4.4,1.3,Iris-versicolor<br />\n",
    "- 7.2,3.0,5.8,1.6,Iris-virginica<br />\n",
    "\n",
    "### Questions\n",
    "1. Load the previously downloaded Iris dataset as a list of lists (each of the 150 lists should have 5 elements). You can make use of the csv module presented. You can read more about the csv module on the official documentation."
   ]
  },
  {
   "cell_type": "code",
   "execution_count": 1,
   "metadata": {},
   "outputs": [],
   "source": [
    "import csv\n",
    "\n",
    "data = [ [], [], [], [], [] ]\n",
    "\n",
    "with open('../Datasets/iris.csv') as f:\n",
    "    \n",
    "    for row in csv.reader(f):\n",
    "        \"\"\"\n",
    "            printing \"row\" I noticed that the last row is empty\n",
    "            so I need to get just the ones with 5 attributes\n",
    "        \"\"\"\n",
    "        if len(row) == 5:\n",
    "            \"\"\"\n",
    "                for the other exercise we'll need numbers and not string\n",
    "                but pay attention that the last element have to remain a string\n",
    "                \n",
    "                convert string into float from 0 to 3\n",
    "                element 4 remains \n",
    "            \"\"\"\n",
    "                \n",
    "            for i in range(4):\n",
    "                data[i].append(float(row[i]))\n",
    "            \n",
    "            data[4].append(row[4])"
   ]
  },
  {
   "cell_type": "markdown",
   "metadata": {},
   "source": [
    "2. Compute and print the mean and the standard deviation for each of the 4 measurement columns(i.e. sepal length and width, petal length and width). Remember that, for a given list ofnvaluesx= (x1,x2,...,xn), the mean μ and the standard deviation σ are defined respectively as <img src=\"../Bridge/1.jpg\" width=\"128px\" height=\"auto\" />"
   ]
  },
  {
   "cell_type": "code",
   "execution_count": 10,
   "metadata": {},
   "outputs": [
    {
     "name": "stdout",
     "output_type": "stream",
     "text": [
      "sepal length mean 5.8433 std 0.8253\n",
      "sepal width mean 3.0540 std 0.4321\n",
      "petal length mean 3.7587 std 1.7585\n",
      "petal width mean 1.1987 std 0.7606\n"
     ]
    }
   ],
   "source": [
    "\"\"\" SOLUZIONE LORO \"\"\"\n",
    "def mean(x):\n",
    "    return sum(x) / len(x)\n",
    "\n",
    "def std(x):\n",
    "    u = mean(x)\n",
    "    return (mean([ (x_i - u) ** 2 for x_i in x ])) ** 0.5\n",
    "\n",
    "for i, m in enumerate(measurements):\n",
    "    print(f\"{m} mean {mean(data[i]):.4f} std {std(data[i]):.4f}\")"
   ]
  },
  {
   "cell_type": "code",
   "execution_count": 2,
   "metadata": {},
   "outputs": [
    {
     "data": {
      "text/plain": [
       "[5.843333333333335, 3.0540000000000007, 3.7586666666666693, 1.1986666666666672]"
      ]
     },
     "execution_count": 2,
     "metadata": {},
     "output_type": "execute_result"
    }
   ],
   "source": [
    "\"\"\" mean \"\"\"\n",
    "def mean_func(data):\n",
    "    mean = [0,0,0,0]\n",
    "    for i in range(4):\n",
    "        mean[i] = sum(data[i])\n",
    "\n",
    "    mean[:] = [x / len(data[0]) for x in mean]\n",
    "    return mean\n",
    "\n",
    "mean = mean_func(data)\n",
    "mean "
   ]
  },
  {
   "cell_type": "code",
   "execution_count": 3,
   "metadata": {},
   "outputs": [
    {
     "data": {
      "text/plain": [
       "[0.8253012917851409, 0.4321465800705435, 1.7585291834055201, 0.760612618588172]"
      ]
     },
     "execution_count": 3,
     "metadata": {},
     "output_type": "execute_result"
    }
   ],
   "source": [
    "\"\"\" standard deviation \"\"\"\n",
    "def std_func(data):\n",
    "    sum = [0,0,0,0]\n",
    "    ds = [0,0,0,0]\n",
    "\n",
    "    for j in range(4):\n",
    "        for i in data[j]:\n",
    "            sum[j] = sum[j] + (i-mean[j])**2\n",
    "\n",
    "    ds[:] = [(x/len(data[0]))**0.5 for x in sum]\n",
    "    return ds\n",
    "\n",
    "ds = std_func(data)\n",
    "ds"
   ]
  },
  {
   "cell_type": "markdown",
   "metadata": {},
   "source": [
    "3. Compute and print the mean and the standard deviation for each of the 4 measurement columns,separately for each of the three Iris species (versicolor, virginica and setosa)."
   ]
  },
  {
   "cell_type": "code",
   "execution_count": 12,
   "metadata": {},
   "outputs": [
    {
     "name": "stdout",
     "output_type": "stream",
     "text": [
      "Iris-versicolor 5.9360 0.5110\n",
      "Iris-virginica 6.5880 0.6295\n",
      "Iris-setosa 5.0060 0.3489\n",
      "\n",
      "Iris-versicolor 2.7700 0.3106\n",
      "Iris-virginica 2.9740 0.3193\n",
      "Iris-setosa 3.4180 0.3772\n",
      "\n",
      "Iris-versicolor 4.2600 0.4652\n",
      "Iris-virginica 5.5520 0.5463\n",
      "Iris-setosa 1.4640 0.1718\n",
      "\n",
      "Iris-versicolor 1.3260 0.1958\n",
      "Iris-virginica 2.0260 0.2719\n",
      "Iris-setosa 0.2440 0.1061\n",
      "\n"
     ]
    }
   ],
   "source": [
    "iris_types = set(['Iris-versicolor', 'Iris-virginica','Iris-setosa'])\n",
    "measurements = [ \"sepal length\", \"sepal width\", \"petal length\", \"petal width\" ]\n",
    "\n",
    "for i, m in enumerate(measurements):\n",
    "    for iris_type in iris_types:\n",
    "        \n",
    "        # For each measurement and for each iris type, build a list of values\n",
    "        values = [ v for v,t in zip(data[i], data[4]) if t == iris_type ]\n",
    "        print(f\"{iris_type} {mean(values):.4f} {std(values):.4f}\")\n",
    "    \n",
    "    print()\n",
    "    "
   ]
  },
  {
   "cell_type": "markdown",
   "metadata": {},
   "source": [
    "4. (*) Based on the results of exercises 2 and 3, which of the 4 measurements would you consideringas being the most characterizing one for the three species? (In other words, which measurementwould you consider “best”, if you were to guess the Iris species based only on those four values?)\n",
    "5. (*) Based on the considerations of Exercise 3, assign the flowers with the following measurementsto what you consider would be the most likely species.5.2, 3.1, 4.0, 1.24.9, 2.5, 5.6, 2.05.4, 3.2, 1.9, 0.4"
   ]
  },
  {
   "cell_type": "markdown",
   "metadata": {},
   "source": [
    "## CITYBIKE Dataset\n",
    "\n",
    "\\\\\\\\\\\n",
    "\n",
    "\n",
    "1. Load the previously downloaded Citybik.es dataset as a Python dictionary. You can make use of the json module presented. You can find the full documentation for the json module here. After thedictionary is loaded, explore its contents from an interactive shell.\n",
    "\n"
   ]
  },
  {
   "cell_type": "code",
   "execution_count": 85,
   "metadata": {},
   "outputs": [
    {
     "name": "stdout",
     "output_type": "stream",
     "text": [
      "dict_keys(['network'])\n"
     ]
    }
   ],
   "source": [
    "import json\n",
    "\n",
    "with open(\"../Datasets/to-bike.json\") as f:\n",
    "    dic = json.load(f)\n",
    "    print(dic.keys())"
   ]
  },
  {
   "cell_type": "code",
   "execution_count": 86,
   "metadata": {},
   "outputs": [
    {
     "data": {
      "text/plain": [
       "dict_keys(['company', 'href', 'id', 'location', 'name', 'source', 'stations'])"
      ]
     },
     "execution_count": 86,
     "metadata": {},
     "output_type": "execute_result"
    }
   ],
   "source": [
    "dic[\"network\"].keys()"
   ]
  },
  {
   "cell_type": "markdown",
   "metadata": {},
   "source": [
    "The most relevant column is \"stations\". Once it is a list, for seeing the structure, we can just print the first record"
   ]
  },
  {
   "cell_type": "code",
   "execution_count": 87,
   "metadata": {},
   "outputs": [
    {
     "data": {
      "text/plain": [
       "{'empty_slots': 0,\n",
       " 'extra': {'number': 2,\n",
       "  'reviews': 1671,\n",
       "  'score': 4.6,\n",
       "  'status': 'online',\n",
       "  'uid': '251'},\n",
       " 'free_bikes': 0,\n",
       " 'id': '15af4cdd63c01ecaf5851e36c8faf608',\n",
       " 'latitude': 45.082462,\n",
       " 'longitude': 7.695677,\n",
       " 'name': 'Bologna',\n",
       " 'timestamp': '2020-10-08T12:51:38.002000Z'}"
      ]
     },
     "execution_count": 87,
     "metadata": {},
     "output_type": "execute_result"
    }
   ],
   "source": [
    "dic[\"network\"][\"stations\"][0]"
   ]
  },
  {
   "attachments": {},
   "cell_type": "markdown",
   "metadata": {},
   "source": [
    "2. Count and print the number of active stations (a station is active if its extra.status field is \"online\")\n",
    "\n",
    "Before going deeper, let's see how can we access to the first field"
   ]
  },
  {
   "cell_type": "code",
   "execution_count": 88,
   "metadata": {},
   "outputs": [
    {
     "data": {
      "text/plain": [
       "'online'"
      ]
     },
     "execution_count": 88,
     "metadata": {},
     "output_type": "execute_result"
    }
   ],
   "source": [
    "dic[\"network\"][\"stations\"][0][\"extra\"][\"status\"]"
   ]
  },
  {
   "cell_type": "code",
   "execution_count": 92,
   "metadata": {},
   "outputs": [
    {
     "name": "stdout",
     "output_type": "stream",
     "text": [
      "Online stations:  113\n"
     ]
    }
   ],
   "source": [
    "\"\"\" list comprehenshion \"\"\"\n",
    "active = [ s for s in dic[\"network\"][\"stations\"] if s[\"extra\"][\"status\"] == \"online\"]\n",
    "print(\"Online stations: \", len(active))"
   ]
  },
  {
   "cell_type": "markdown",
   "metadata": {},
   "source": [
    "3. Count and print the total number of bikes available (field free_bikes) and the number of free docks(field empty_slots) throughout all stations."
   ]
  },
  {
   "cell_type": "code",
   "execution_count": 101,
   "metadata": {},
   "outputs": [
    {
     "name": "stdout",
     "output_type": "stream",
     "text": [
      "Bikes available:  181\n",
      "Free docks:  669\n"
     ]
    }
   ],
   "source": [
    "bikes_available = 0\n",
    "free_docks = 0\n",
    "\n",
    "for i in enumerate(dic[\"network\"][\"stations\"]):\n",
    "    \"\"\"\n",
    "        the first element is the key's station\n",
    "    \"\"\"\n",
    "    bikes_available += i[1][\"free_bikes\"]\n",
    "    free_docks += i[1][\"empty_slots\"]\n",
    "    \n",
    "print(\"Bikes available: \", bikes_available)\n",
    "print(\"Free docks: \", free_docks)"
   ]
  },
  {
   "cell_type": "markdown",
   "metadata": {},
   "source": [
    "## MNIST dataset\n",
    "\n",
    "//\n",
    "\n",
    "1. Load the previously downloaded MNIST dataset. You can make use of the csv module already presented.\n"
   ]
  },
  {
   "cell_type": "code",
   "execution_count": 113,
   "metadata": {},
   "outputs": [
    {
     "name": "stdout",
     "output_type": "stream",
     "text": [
      "['0', '0', '0', '0', '0', '0', '0', '0', '0', '0', '0', '0', '0', '0', '0', '0', '0', '0', '0', '0', '0', '0', '0', '0', '0', '0', '0', '0', '0', '0', '0', '0', '0', '0', '0', '0', '0', '0', '0', '0', '0', '0', '0', '0', '0', '0', '0', '0', '0', '0', '0', '0', '0', '0', '0', '0', '0', '0', '0', '0', '0', '0', '0', '0', '0', '0', '0', '0', '0', '0', '0', '0', '0', '0', '0', '0', '0', '0', '0', '0', '0', '0', '0', '0', '0', '0', '0', '0', '0', '0', '0', '0', '0', '0', '0', '0', '0', '0', '0', '0', '0', '0', '0', '0', '0', '0', '0', '0', '0', '0', '0', '0', '0', '0', '0', '0', '0', '0', '0', '0', '0', '0', '0', '0', '0', '0', '0', '0', '0', '0', '0', '0', '0', '0', '0', '0', '0', '0', '0', '0', '0', '0', '0', '0', '0', '0', '0', '0', '0', '0', '0', '0', '0', '0', '0', '0', '0', '0', '0', '0', '0', '0', '0', '0', '0', '0', '0', '0', '0', '0', '0', '0', '0', '0', '0', '0', '0', '0', '0', '0', '0', '0', '0', '0', '0', '0', '0', '0', '0', '0', '0', '0', '0', '0', '0', '0', '0', '0', '0', '0', '0', '0', '84', '185', '159', '151', '60', '36', '0', '0', '0', '0', '0', '0', '0', '0', '0', '0', '0', '0', '0', '0', '0', '0', '0', '0', '0', '0', '0', '0', '222', '254', '254', '254', '254', '241', '198', '198', '198', '198', '198', '198', '198', '198', '170', '52', '0', '0', '0', '0', '0', '0', '0', '0', '0', '0', '0', '0', '67', '114', '72', '114', '163', '227', '254', '225', '254', '254', '254', '250', '229', '254', '254', '140', '0', '0', '0', '0', '0', '0', '0', '0', '0', '0', '0', '0', '0', '0', '0', '0', '0', '17', '66', '14', '67', '67', '67', '59', '21', '236', '254', '106', '0', '0', '0', '0', '0', '0', '0', '0', '0', '0', '0', '0', '0', '0', '0', '0', '0', '0', '0', '0', '0', '0', '0', '0', '83', '253', '209', '18', '0', '0', '0', '0', '0', '0', '0', '0', '0', '0', '0', '0', '0', '0', '0', '0', '0', '0', '0', '0', '0', '0', '0', '22', '233', '255', '83', '0', '0', '0', '0', '0', '0', '0', '0', '0', '0', '0', '0', '0', '0', '0', '0', '0', '0', '0', '0', '0', '0', '0', '0', '129', '254', '238', '44', '0', '0', '0', '0', '0', '0', '0', '0', '0', '0', '0', '0', '0', '0', '0', '0', '0', '0', '0', '0', '0', '0', '0', '59', '249', '254', '62', '0', '0', '0', '0', '0', '0', '0', '0', '0', '0', '0', '0', '0', '0', '0', '0', '0', '0', '0', '0', '0', '0', '0', '0', '133', '254', '187', '5', '0', '0', '0', '0', '0', '0', '0', '0', '0', '0', '0', '0', '0', '0', '0', '0', '0', '0', '0', '0', '0', '0', '0', '9', '205', '248', '58', '0', '0', '0', '0', '0', '0', '0', '0', '0', '0', '0', '0', '0', '0', '0', '0', '0', '0', '0', '0', '0', '0', '0', '0', '126', '254', '182', '0', '0', '0', '0', '0', '0', '0', '0', '0', '0', '0', '0', '0', '0', '0', '0', '0', '0', '0', '0', '0', '0', '0', '0', '75', '251', '240', '57', '0', '0', '0', '0', '0', '0', '0', '0', '0', '0', '0', '0', '0', '0', '0', '0', '0', '0', '0', '0', '0', '0', '0', '19', '221', '254', '166', '0', '0', '0', '0', '0', '0', '0', '0', '0', '0', '0', '0', '0', '0', '0', '0', '0', '0', '0', '0', '0', '0', '0', '3', '203', '254', '219', '35', '0', '0', '0', '0', '0', '0', '0', '0', '0', '0', '0', '0', '0', '0', '0', '0', '0', '0', '0', '0', '0', '0', '0', '38', '254', '254', '77', '0', '0', '0', '0', '0', '0', '0', '0', '0', '0', '0', '0', '0', '0', '0', '0', '0', '0', '0', '0', '0', '0', '0', '31', '224', '254', '115', '1', '0', '0', '0', '0', '0', '0', '0', '0', '0', '0', '0', '0', '0', '0', '0', '0', '0', '0', '0', '0', '0', '0', '0', '133', '254', '254', '52', '0', '0', '0', '0', '0', '0', '0', '0', '0', '0', '0', '0', '0', '0', '0', '0', '0', '0', '0', '0', '0', '0', '0', '61', '242', '254', '254', '52', '0', '0', '0', '0', '0', '0', '0', '0', '0', '0', '0', '0', '0', '0', '0', '0', '0', '0', '0', '0', '0', '0', '0', '121', '254', '254', '219', '40', '0', '0', '0', '0', '0', '0', '0', '0', '0', '0', '0', '0', '0', '0', '0', '0', '0', '0', '0', '0', '0', '0', '0', '121', '254', '207', '18', '0', '0', '0', '0', '0', '0', '0', '0', '0', '0', '0', '0', '0', '0', '0', '0', '0', '0', '0', '0', '0', '0', '0', '0', '0', '0', '0', '0', '0', '0', '0', '0', '0', '0', '0', '0', '0', '0', '0', '0', '0', '0']\n"
     ]
    }
   ],
   "source": [
    "import csv\n",
    "\n",
    "data_mnist = []\n",
    "numbers = []\n",
    "\n",
    "with open('../Datasets/mnist_test.csv') as f:\n",
    "    for cols in csv.reader(f):\n",
    "        numbers.append(int(cols.pop(0)))\n",
    "        \"\"\" \n",
    "            map(int,cols) coverts all the elements of the list from string to int\n",
    "        \"\"\"\n",
    "        data_mnist.append(list(map(int, cols)))\n",
    "        print(cols)\n",
    "        break"
   ]
  },
  {
   "cell_type": "code",
   "execution_count": 114,
   "metadata": {},
   "outputs": [
    {
     "name": "stdout",
     "output_type": "stream",
     "text": [
      "[0, 0, 0, 0, 0, 0, 0, 0, 0, 0, 0, 0, 0, 0, 0, 0, 0, 0, 0, 0, 0, 0, 0, 0, 0, 0, 0, 0, 0, 0, 0, 0, 0, 0, 0, 0, 0, 0, 0, 0, 0, 0, 0, 0, 0, 0, 0, 0, 0, 0, 0, 0, 0, 0, 0, 0, 0, 0, 0, 0, 0, 0, 0, 0, 0, 0, 0, 0, 0, 0, 0, 0, 0, 0, 0, 0, 0, 0, 0, 0, 0, 0, 0, 0, 0, 0, 0, 0, 0, 0, 0, 0, 0, 0, 0, 0, 0, 0, 0, 0, 0, 0, 0, 0, 0, 0, 0, 0, 0, 0, 0, 0, 0, 0, 0, 0, 0, 0, 0, 0, 0, 0, 0, 0, 0, 0, 0, 0, 0, 0, 0, 0, 0, 0, 0, 0, 0, 0, 0, 0, 0, 0, 0, 0, 0, 0, 0, 0, 0, 0, 0, 0, 0, 0, 0, 0, 0, 0, 0, 0, 0, 0, 0, 0, 0, 0, 0, 0, 0, 0, 0, 0, 0, 0, 0, 0, 0, 0, 0, 0, 0, 0, 0, 0, 0, 0, 0, 0, 0, 0, 0, 0, 0, 0, 0, 0, 0, 0, 0, 0, 0, 0, 84, 185, 159, 151, 60, 36, 0, 0, 0, 0, 0, 0, 0, 0, 0, 0, 0, 0, 0, 0, 0, 0, 0, 0, 0, 0, 0, 0, 222, 254, 254, 254, 254, 241, 198, 198, 198, 198, 198, 198, 198, 198, 170, 52, 0, 0, 0, 0, 0, 0, 0, 0, 0, 0, 0, 0, 67, 114, 72, 114, 163, 227, 254, 225, 254, 254, 254, 250, 229, 254, 254, 140, 0, 0, 0, 0, 0, 0, 0, 0, 0, 0, 0, 0, 0, 0, 0, 0, 0, 17, 66, 14, 67, 67, 67, 59, 21, 236, 254, 106, 0, 0, 0, 0, 0, 0, 0, 0, 0, 0, 0, 0, 0, 0, 0, 0, 0, 0, 0, 0, 0, 0, 0, 0, 83, 253, 209, 18, 0, 0, 0, 0, 0, 0, 0, 0, 0, 0, 0, 0, 0, 0, 0, 0, 0, 0, 0, 0, 0, 0, 0, 22, 233, 255, 83, 0, 0, 0, 0, 0, 0, 0, 0, 0, 0, 0, 0, 0, 0, 0, 0, 0, 0, 0, 0, 0, 0, 0, 0, 129, 254, 238, 44, 0, 0, 0, 0, 0, 0, 0, 0, 0, 0, 0, 0, 0, 0, 0, 0, 0, 0, 0, 0, 0, 0, 0, 59, 249, 254, 62, 0, 0, 0, 0, 0, 0, 0, 0, 0, 0, 0, 0, 0, 0, 0, 0, 0, 0, 0, 0, 0, 0, 0, 0, 133, 254, 187, 5, 0, 0, 0, 0, 0, 0, 0, 0, 0, 0, 0, 0, 0, 0, 0, 0, 0, 0, 0, 0, 0, 0, 0, 9, 205, 248, 58, 0, 0, 0, 0, 0, 0, 0, 0, 0, 0, 0, 0, 0, 0, 0, 0, 0, 0, 0, 0, 0, 0, 0, 0, 126, 254, 182, 0, 0, 0, 0, 0, 0, 0, 0, 0, 0, 0, 0, 0, 0, 0, 0, 0, 0, 0, 0, 0, 0, 0, 0, 75, 251, 240, 57, 0, 0, 0, 0, 0, 0, 0, 0, 0, 0, 0, 0, 0, 0, 0, 0, 0, 0, 0, 0, 0, 0, 0, 19, 221, 254, 166, 0, 0, 0, 0, 0, 0, 0, 0, 0, 0, 0, 0, 0, 0, 0, 0, 0, 0, 0, 0, 0, 0, 0, 3, 203, 254, 219, 35, 0, 0, 0, 0, 0, 0, 0, 0, 0, 0, 0, 0, 0, 0, 0, 0, 0, 0, 0, 0, 0, 0, 0, 38, 254, 254, 77, 0, 0, 0, 0, 0, 0, 0, 0, 0, 0, 0, 0, 0, 0, 0, 0, 0, 0, 0, 0, 0, 0, 0, 31, 224, 254, 115, 1, 0, 0, 0, 0, 0, 0, 0, 0, 0, 0, 0, 0, 0, 0, 0, 0, 0, 0, 0, 0, 0, 0, 0, 133, 254, 254, 52, 0, 0, 0, 0, 0, 0, 0, 0, 0, 0, 0, 0, 0, 0, 0, 0, 0, 0, 0, 0, 0, 0, 0, 61, 242, 254, 254, 52, 0, 0, 0, 0, 0, 0, 0, 0, 0, 0, 0, 0, 0, 0, 0, 0, 0, 0, 0, 0, 0, 0, 0, 121, 254, 254, 219, 40, 0, 0, 0, 0, 0, 0, 0, 0, 0, 0, 0, 0, 0, 0, 0, 0, 0, 0, 0, 0, 0, 0, 0, 121, 254, 207, 18, 0, 0, 0, 0, 0, 0, 0, 0, 0, 0, 0, 0, 0, 0, 0, 0, 0, 0, 0, 0, 0, 0, 0, 0, 0, 0, 0, 0, 0, 0, 0, 0, 0, 0, 0, 0, 0, 0, 0, 0, 0, 0]\n"
     ]
    }
   ],
   "source": [
    "print(list(map(int, cols)))"
   ]
  },
  {
   "cell_type": "code",
   "execution_count": 116,
   "metadata": {},
   "outputs": [
    {
     "data": {
      "text/plain": [
       "['1', '2']"
      ]
     },
     "execution_count": 116,
     "metadata": {},
     "output_type": "execute_result"
    }
   ],
   "source": [
    "a = [\"1\", \"2\"]\n",
    "\n",
    "list(a)"
   ]
  },
  {
   "cell_type": "code",
   "execution_count": null,
   "metadata": {},
   "outputs": [],
   "source": []
  }
 ],
 "metadata": {
  "kernelspec": {
   "display_name": "Python 3",
   "language": "python",
   "name": "python3"
  },
  "language_info": {
   "codemirror_mode": {
    "name": "ipython",
    "version": 3
   },
   "file_extension": ".py",
   "mimetype": "text/x-python",
   "name": "python",
   "nbconvert_exporter": "python",
   "pygments_lexer": "ipython3",
   "version": "3.8.3"
  }
 },
 "nbformat": 4,
 "nbformat_minor": 4
}
