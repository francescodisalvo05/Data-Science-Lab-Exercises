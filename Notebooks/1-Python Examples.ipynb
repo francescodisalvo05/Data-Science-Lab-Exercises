{
 "cells": [
  {
   "cell_type": "markdown",
   "metadata": {},
   "source": [
    "# Python Examples\n",
    "## 1) Removing list duplicates"
   ]
  },
  {
   "cell_type": "code",
   "execution_count": 3,
   "metadata": {},
   "outputs": [
    {
     "data": {
      "text/plain": [
       "[1, 2, 3, 5, 4]"
      ]
     },
     "execution_count": 3,
     "metadata": {},
     "output_type": "execute_result"
    }
   ],
   "source": [
    "l1 = [1,2,1,3,5,4,5]\n",
    "\n",
    "# I insert sequentially all the elements in another list\n",
    "# If some of the l1 elements are present in l2, I won't add them\n",
    "\n",
    "l2 = []\n",
    "\n",
    "for elem in l1:\n",
    "    if elem not in l2:\n",
    "        l2.append(elem)\n",
    "        \n",
    "l2"
   ]
  },
  {
   "cell_type": "markdown",
   "metadata": {},
   "source": [
    "## 2) Euclidean distance between lists"
   ]
  },
  {
   "cell_type": "code",
   "execution_count": 27,
   "metadata": {},
   "outputs": [
    {
     "data": {
      "text/plain": [
       "3.0"
      ]
     },
     "execution_count": 27,
     "metadata": {},
     "output_type": "execute_result"
    }
   ],
   "source": [
    "from math import sqrt\n",
    "\n",
    "x, y = [1,2,3], [2,4,5]\n",
    "\n",
    "distance = 0\n",
    "\n",
    "# zip the elements and work them together\n",
    "for a, b in zip(x,y):\n",
    "    # sum up the differences' power\n",
    "    distance += (a-b)**2\n",
    "\n",
    "distance = sqrt(distance)\n",
    "distance "
   ]
  },
  {
   "cell_type": "code",
   "execution_count": 28,
   "metadata": {},
   "outputs": [
    {
     "name": "stdout",
     "output_type": "stream",
     "text": [
      "Square distances:  [1.0, 4.0, 4.0]\n"
     ]
    },
    {
     "data": {
      "text/plain": [
       "3.0"
      ]
     },
     "execution_count": 28,
     "metadata": {},
     "output_type": "execute_result"
    }
   ],
   "source": [
    "from math import sqrt, pow\n",
    "\n",
    "# [pow((a-b),2) for (a,b) in zip(x,y)] : list of square distances\n",
    "# sum ( ... ) : sum them up\n",
    "# sqrt ( ... ) : sqrt the sum \n",
    "\n",
    "x, y = [1,2,3], [2,4,5]\n",
    "\n",
    "dinstanceV2 =  [pow((a-b),2) for (a,b) in zip(x,y)] \n",
    "print(\"Square distances: \",dinstanceV2)\n",
    "dinstanceV2 = sqrt(sum(dinstanceV2))\n",
    "\n",
    "# distanceV2 = sqrt( sum ( [pow((a-b),2) for (a,b) in zip(x,y)] ) )\n",
    "\n",
    "dinstanceV2\n"
   ]
  },
  {
   "cell_type": "markdown",
   "metadata": {},
   "source": [
    "## 3) Classes and lambda functions: rule-based classifier\n",
    "Write a rule based classifier that allows classifying samples based on rules provided by the user.\n",
    "- Each **sample** to be classified is a **dictionary**.\n",
    "- **Rules** specify the output class that should be assigned to the sample based on its dictionary fields\n",
    "- The classifier can take as input **more than one rule**\n",
    "- It should also request with its constructor a **default class** that is assigned when none of the rules apply to the sample\n",
    "\n",
    "**Example of sample:**\n",
    "my_sample = {'temperature' : 20, 'humidity' : 0.8}\n",
    "\n",
    "**Example of rule:**\n",
    "if temperature > 5 and humidity > 0.7 then class = 'Rainy'\n",
    "\n",
    "**Apply the classifier:**\n",
    "my_classifer.classify(my_sample)\n"
   ]
  },
  {
   "cell_type": "code",
   "execution_count": 46,
   "metadata": {},
   "outputs": [],
   "source": [
    "class RuleClassifier:\n",
    "    \n",
    "    # contstructor\n",
    "    def __init__(self, def_class):\n",
    "        self.def_class = def_class\n",
    "        self.rules = []\n",
    "        \n",
    "    # store the rule in a list\n",
    "    def add_rule(self, rule, out_class):\n",
    "        self.rules.append( (rule, out_class) )\n",
    "\n",
    "    def classify(self, sample):\n",
    "        for r, out_class in self.rules:\n",
    "            if r(sample):\n",
    "                return out_class\n",
    "        return self.def_class"
   ]
  },
  {
   "cell_type": "markdown",
   "metadata": {},
   "source": [
    "**Example of creation and execution of the classifier:**"
   ]
  },
  {
   "cell_type": "code",
   "execution_count": 47,
   "metadata": {},
   "outputs": [
    {
     "name": "stdout",
     "output_type": "stream",
     "text": [
      "[(<function <lambda> at 0x000001C497DA5820>, 'Rainy'), (<function <lambda> at 0x000001C497DA58B0>, 'Snowy'), (<function <lambda> at 0x000001C497DA5940>, 'Foggy')]\n"
     ]
    }
   ],
   "source": [
    "# Creation\n",
    "rule_clf = RuleClassifier('Sunny')\n",
    "\n",
    "# Add rules\n",
    "rule_clf.add_rule(lambda x: x['temperature']>5 and x['humidity']>0.7, 'Rainy')\n",
    "rule_clf.add_rule(lambda x: x['temperature']<5 and x['humidity']>0.7, 'Snowy')\n",
    "rule_clf.add_rule(lambda x: x['temperature']>25 and x['humidity']>0.8, 'Foggy')\n",
    "\n",
    "print(rule_clf.rules)"
   ]
  },
  {
   "cell_type": "code",
   "execution_count": 48,
   "metadata": {},
   "outputs": [
    {
     "name": "stdout",
     "output_type": "stream",
     "text": [
      "Sunny\n",
      "Rainy\n"
     ]
    }
   ],
   "source": [
    "# Perform classification\n",
    "print(rule_clf.classify({'temperature' : 30, 'humidity' : 0.4}))\n",
    "print(rule_clf.classify({'temperature' : 15, 'humidity' : 0.8}))"
   ]
  },
  {
   "cell_type": "markdown",
   "metadata": {},
   "source": [
    "## 4) Classes and exception handling: reading csv files\n",
    "Implement a class that reads a csv file with header and allows accessing data by column."
   ]
  },
  {
   "cell_type": "code",
   "execution_count": 8,
   "metadata": {},
   "outputs": [],
   "source": [
    "class Table:\n",
    "    def __init__(self, file_path):\n",
    "        # Step 1: {'ID': [], 'Name': [] ... }\n",
    "        # Step 2: {'ID': ['1', '2', '3'], 'Name': ['John', 'Alicia', 'Sam'] ... }\n",
    "        \n",
    "        with open(file_path, 'r') as f:\n",
    "            header = f.readline().strip().split('\\t')\n",
    "            \n",
    "            # Initialize the dictionary self.__columns\n",
    "            # empty list for each col\n",
    "            self.__columns = {col : [] for col in header}\n",
    "            \n",
    "            # Read lines\n",
    "            for line in f:\n",
    "                # Split line fields and fill the different columns \n",
    "                for value, column in zip(line.strip().split('\\t'), self.__columns.keys()):\n",
    "                    self.__columns[column].append(value) \n",
    "    \n",
    "            \n",
    "    def get_column(self, column_name):\n",
    "        return self.__columns[column_name]"
   ]
  },
  {
   "cell_type": "code",
   "execution_count": 9,
   "metadata": {},
   "outputs": [
    {
     "name": "stdout",
     "output_type": "stream",
     "text": [
      "['John', 'Alicia', 'Sam']\n"
     ]
    }
   ],
   "source": [
    "try:\n",
    "    table = Table('../Datasets/TableExample.txt')\n",
    "    print(table.get_column('Name'))\n",
    "except:\n",
    "    print(\"Error while loading table\")"
   ]
  },
  {
   "cell_type": "code",
   "execution_count": null,
   "metadata": {},
   "outputs": [],
   "source": []
  }
 ],
 "metadata": {
  "kernelspec": {
   "display_name": "Python 3",
   "language": "python",
   "name": "python3"
  },
  "language_info": {
   "codemirror_mode": {
    "name": "ipython",
    "version": 3
   },
   "file_extension": ".py",
   "mimetype": "text/x-python",
   "name": "python",
   "nbconvert_exporter": "python",
   "pygments_lexer": "ipython3",
   "version": "3.8.3"
  }
 },
 "nbformat": 4,
 "nbformat_minor": 2
}
