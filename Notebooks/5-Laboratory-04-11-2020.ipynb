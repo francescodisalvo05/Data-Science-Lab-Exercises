{
 "cells": [
  {
   "cell_type": "markdown",
   "metadata": {},
   "source": [
    "# 5-Laboratory-04-11-2020\n",
    "| Credits to the authors of the exercises: Andrea Pasini, Giuseppe Attanasio, Flavio Giobergia<br />| Master of Science in Data Science and Engineering, Politecnico di Torino, A.A. 2020-21\n",
    "\n",
    "## New York Point Of Interests\n",
    "The New York Point Of Interest dataset collects a sub-sample of the point of interests (POI) available inthe city of New York. It contains the coordinates of each point of interest and the category to which itbelongs to, specifying thetypeof the POI, for each POIcategory. There are four possible categories of POIs: amenity, shop, public_transport and highway. The fields available in the dataset are\n",
    "\n",
    "- @id: a unique id for each point of interest.\n",
    "- @lat: latitude coordinate of the POI in decimal degrees.\n",
    "- @lon: longitude coordinate of the POI in decimal degrees.\n",
    "- amenity name: if the POI category isamenityits type is reported in this field.\n",
    "- shop: if the POI category isshopits type is reported in this field.\n",
    "- public_transport: if the POI category ispublic transportits type is reported in this field.\n",
    "- highway: if the POI category ishighwayits type is reported in this field\n",
    "\n",
    "### Questions\n",
    "\n",
    "1. "
   ]
  },
  {
   "cell_type": "markdown",
   "metadata": {},
   "source": [
    "## Flight Delay Data\n",
    "This dataset is made available by the Bureau of Transportation Statistics of the United States Departmentof Transportation. Measuring the performance of flight carriers (e.g. American Airlines, EasyJet) is extremely important for the transportation department and, for this reason, all the information related to each flight are constantly monitored and collected in huge databases by the Department of Transportation. To the aim of this laboratory, just a small set of information has been extracted. The dataset contains the Carrier On-Time Performance information collected from 01-01-2017 until 31-01-2017 for all the flights in the United States. Each row represents a flight in a specific day.Some of the most useful fields in the dataset are:\n",
    "- FL_DATE: day of the flight in format YYYY-mm-dd.\n",
    "- TAIL_NUM: aircraft registration number, unique to a single aircraft.\n",
    "- UNIQUE_CARRIER: flight carrier id.\n",
    "- FL_NUM: number of the flight.\n",
    "- ORIGIN: departure airport code.\n",
    "- DEST: destination airport code.\n",
    "- CRS_DEP_TIME: scheduled departure time (local time: HHMM) shown in the carriers’ ComputerizedReservations Systems (CRS)\n",
    "- DEP_TIME: actual departure time (local time: HHMM)•DEP_DELAY: overall delay at departure. Difference in minutes (floating point number) between sched-uled and actual departure time. Early departures set to 0.•CRS_ARR_TIME: scheduled arrival time (local time: HHMM) shown in the carriers’ ComputerizedReservations Systems (CRS)•ARR_TIME: actual arrival time (local time: HHMM)•ARR_DELAY: overall delay. Difference in minutes (floating point number) between scheduled andactual arrival time. Early arrivals show negative numbers.•CARRIER_DELAY: delay in minutes (floating point number) caused by the carrier.•WEATHER_DELAY: delay in minutes (floating point number) caused by the weather.•NAS_DELAY: delay in minutes (floating point number) caused by the National Air System (NAS).•SECURITY_DELAY: delay in minutes (floating point number) caused by the security.•LATE_AIRCRAFT_DELAY: delay in minutes (floating point number) caused by the aircraft."
   ]
  }
 ],
 "metadata": {
  "kernelspec": {
   "display_name": "Python 3",
   "language": "python",
   "name": "python3"
  },
  "language_info": {
   "codemirror_mode": {
    "name": "ipython",
    "version": 3
   },
   "file_extension": ".py",
   "mimetype": "text/x-python",
   "name": "python",
   "nbconvert_exporter": "python",
   "pygments_lexer": "ipython3",
   "version": "3.8.3"
  }
 },
 "nbformat": 4,
 "nbformat_minor": 4
}
